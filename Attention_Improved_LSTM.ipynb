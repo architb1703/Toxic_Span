{
  "nbformat": 4,
  "nbformat_minor": 0,
  "metadata": {
    "colab": {
      "name": "Attention-Improved-LSTM.ipynb",
      "provenance": [],
      "collapsed_sections": [],
      "include_colab_link": true
    },
    "kernelspec": {
      "name": "python3",
      "display_name": "Python 3"
    }
  },
  "cells": [
    {
      "cell_type": "markdown",
      "metadata": {
        "id": "view-in-github",
        "colab_type": "text"
      },
      "source": [
        "<a href=\"https://colab.research.google.com/github/architb1703/Toxic_Span/blob/Abhay/Attention_Improved_LSTM.ipynb\" target=\"_parent\"><img src=\"https://colab.research.google.com/assets/colab-badge.svg\" alt=\"Open In Colab\"/></a>"
      ]
    },
    {
      "cell_type": "code",
      "metadata": {
        "id": "4kPsSo5aMU4w"
      },
      "source": [
        ""
      ],
      "execution_count": null,
      "outputs": []
    },
    {
      "cell_type": "code",
      "metadata": {
        "id": "BQWwdUDbhmQQ",
        "colab": {
          "base_uri": "https://localhost:8080/",
          "height": 106
        },
        "outputId": "622de1c2-6981-4642-ec04-f28a508c0f06"
      },
      "source": [
        "! pip install jsonlines "
      ],
      "execution_count": null,
      "outputs": [
        {
          "output_type": "stream",
          "text": [
            "Collecting jsonlines\n",
            "  Downloading https://files.pythonhosted.org/packages/4f/9a/ab96291470e305504aa4b7a2e0ec132e930da89eb3ca7a82fbe03167c131/jsonlines-1.2.0-py2.py3-none-any.whl\n",
            "Requirement already satisfied: six in /usr/local/lib/python3.6/dist-packages (from jsonlines) (1.15.0)\n",
            "Installing collected packages: jsonlines\n",
            "Successfully installed jsonlines-1.2.0\n"
          ],
          "name": "stdout"
        }
      ]
    },
    {
      "cell_type": "code",
      "metadata": {
        "id": "yJTPJoZjYr4H"
      },
      "source": [
        ""
      ],
      "execution_count": null,
      "outputs": []
    },
    {
      "cell_type": "code",
      "metadata": {
        "id": "_p7CDRFuMDgN",
        "colab": {
          "base_uri": "https://localhost:8080/",
          "height": 35
        },
        "outputId": "61bd0dc9-99a8-4a7d-9e22-99e8d5ef82c7"
      },
      "source": [
        "from google.colab import drive \n",
        "drive.mount('/content/gdrive')"
      ],
      "execution_count": null,
      "outputs": [
        {
          "output_type": "stream",
          "text": [
            "Mounted at /content/gdrive\n"
          ],
          "name": "stdout"
        }
      ]
    },
    {
      "cell_type": "code",
      "metadata": {
        "id": "0CN9EfHpMQDp",
        "colab": {
          "base_uri": "https://localhost:8080/",
          "height": 35
        },
        "outputId": "9df98dd6-81ed-4b18-ac76-302459663535"
      },
      "source": [
        "cd /content/gdrive/'My Drive'/'Toxic Spam'"
      ],
      "execution_count": null,
      "outputs": [
        {
          "output_type": "stream",
          "text": [
            "/content/gdrive/My Drive/Toxic Spam\n"
          ],
          "name": "stdout"
        }
      ]
    },
    {
      "cell_type": "code",
      "metadata": {
        "id": "UOKYhK3aMZHh"
      },
      "source": [
        ""
      ],
      "execution_count": null,
      "outputs": []
    },
    {
      "cell_type": "code",
      "metadata": {
        "id": "LwxOtHwGMCfi"
      },
      "source": [
        ""
      ],
      "execution_count": null,
      "outputs": []
    },
    {
      "cell_type": "code",
      "metadata": {
        "id": "wUQ0f12FLQ21"
      },
      "source": [
        "# Libraries\n",
        "\n",
        "import matplotlib.pyplot as plt\n",
        "import pandas as pd\n",
        "import numpy as np\n",
        "import re\n",
        "import torch\n",
        "import json\n",
        "import torch.nn.functional as F\n",
        "# Preliminaries\n",
        "\n",
        "from torchtext.data import Field, TabularDataset, BucketIterator\n",
        "\n",
        "# Models\n",
        "\n",
        "import torch.nn as nn\n",
        "from torch.nn.utils.rnn import pack_padded_sequence, pad_packed_sequence\n",
        "\n",
        "# Training\n",
        "\n",
        "import torch.optim as optim\n",
        "\n",
        "# Evaluation\n",
        "\n",
        "from sklearn.metrics import accuracy_score, classification_report, confusion_matrix,f1_score\n",
        "import seaborn as sns"
      ],
      "execution_count": null,
      "outputs": []
    },
    {
      "cell_type": "code",
      "metadata": {
        "id": "JJKehd18ORO0"
      },
      "source": [
        ""
      ],
      "execution_count": null,
      "outputs": []
    },
    {
      "cell_type": "code",
      "metadata": {
        "id": "PBo-ygVPeF2O"
      },
      "source": [
        "data.head()"
      ],
      "execution_count": null,
      "outputs": []
    },
    {
      "cell_type": "code",
      "metadata": {
        "id": "zoQugFzSeGVD",
        "colab": {
          "base_uri": "https://localhost:8080/",
          "height": 35
        },
        "outputId": "48d403f7-79eb-445e-f87f-6e91df47fc36"
      },
      "source": [
        "data_train=pd.read_pickle('./processed/finaltrain.pkl')\n",
        "data_val=pd.read_pickle('./processed/finaldev.pkl')\n",
        "print(len(data_train),len(data_val))"
      ],
      "execution_count": null,
      "outputs": [
        {
          "output_type": "stream",
          "text": [
            "6351 794\n"
          ],
          "name": "stdout"
        }
      ]
    },
    {
      "cell_type": "code",
      "metadata": {
        "id": "gFc_cxqqC2Gr",
        "colab": {
          "base_uri": "https://localhost:8080/",
          "height": 34
        },
        "outputId": "7ccaf934-7dd1-4da7-aef9-9d1b3345629d"
      },
      "source": [
        "###IGNORE THIS CELLLLL\n",
        "# y=len(data)\n",
        "# data=data.sample(frac=1)\n",
        "# train_data= data[:int(8*y/10)]\n",
        "# val_data=data[int(8*y/10):int(9*y/10)]\n",
        "# test_data=data[int(9*y/10):]\n",
        "# print(len(train_data),len(val_data),len(test_data))"
      ],
      "execution_count": null,
      "outputs": [
        {
          "output_type": "stream",
          "text": [
            "6351 794 794\n"
          ],
          "name": "stdout"
        }
      ]
    },
    {
      "cell_type": "code",
      "metadata": {
        "id": "OG-BV3d4SasL",
        "colab": {
          "base_uri": "https://localhost:8080/",
          "height": 72
        },
        "outputId": "819bb0e6-d83c-4297-bf79-a49c17839505"
      },
      "source": [
        "X_train=data_train['token_final'].to_list()\n",
        "Y_train=data_train['target_final'].to_list()\n",
        "X_val=data_val['token_final'].tolist()\n",
        "Y_val=data_val['target_final'].tolist()\n",
        "print(X_train[0],Y_train[0])\n",
        "print(X_val[0],Y_val[0])\n",
        "\n",
        "\n",
        "train_data = []\n",
        "for i in range(len(X_train)):\n",
        "  train_data.append({\"text\" : X_train[i], \"label\" : Y_train[i]})\n",
        "\n",
        "with jsonlines.open('./processed/train.json', mode='w') as f:\n",
        "  f.write_all(train_data)\n",
        "\n",
        "val_data = []\n",
        "for i in range(len(X_val)):\n",
        "  val_data.append({\"text\" : X_val[i], \"label\" : Y_val[i]})\n",
        "\n",
        "with jsonlines.open('./processed/val.json', mode='w') as f:\n",
        "  f.write_all(val_data)\n"
      ],
      "execution_count": null,
      "outputs": [
        {
          "output_type": "stream",
          "text": [
            "['only', 'a', 'fool', 'would', 'not', 'be', 'against', 'this', 'president', 'he', 'is', 'massively', 'and', 'obviously', 'unfit', 'for', 'office'] [0, 0, 1, 0, 0, 0, 0, 0, 0, 0, 0, 0, 0, 0, 0, 0, 0]\n",
            "['fucking', 'leftist', 'hebes', 'always', 'finding', 'the', 'dirty', 'way', 'to', 'find', 'dirt', 'and', 'make', 'it', 'salacious'] [1, 0, 0, 0, 0, 0, 0, 0, 0, 0, 0, 0, 0, 0, 0]\n"
          ],
          "name": "stdout"
        }
      ]
    },
    {
      "cell_type": "code",
      "metadata": {
        "id": "HPCHVfQMd4BS"
      },
      "source": [
        ""
      ],
      "execution_count": null,
      "outputs": []
    },
    {
      "cell_type": "code",
      "metadata": {
        "id": "e_xbVnaBSIIW"
      },
      "source": [
        ""
      ],
      "execution_count": null,
      "outputs": []
    },
    {
      "cell_type": "code",
      "metadata": {
        "id": "e4GQrcARihBb"
      },
      "source": [
        ""
      ],
      "execution_count": null,
      "outputs": []
    },
    {
      "cell_type": "code",
      "metadata": {
        "id": "O_3617xt8yEZ"
      },
      "source": [
        "class Corpus(object):\n",
        "  def __init__(self, input_folder, min_word_freq, batch_size,device):\n",
        "    # list all the fields\n",
        "    self.word_field = Field(lower=True)\n",
        "    self.label_field = Field(unk_token=None,pad_token=None)\n",
        "    # create dataset using built-in parser from torchtext\n",
        "    self.train_data, self.val_data = TabularDataset.splits(\n",
        "        path=input_folder,\n",
        "        train=\"train.json\",\n",
        "        validation=\"val.json\",\n",
        "        format=\"json\",\n",
        "        fields={'text':(\"text\", self.word_field),'label':(\"label\",self.label_field)}\n",
        "    )\n",
        "    # convert fields to vocabulary list\n",
        "    # \n",
        "    self.word_field.build_vocab(self.train_data.text, vectors='glove.twitter.27B.200d', unk_init=torch.Tensor.normal_,min_freq=min_word_freq)\n",
        "    self.label_field.build_vocab(self.train_data.label)\n",
        "    # create iterator for batch input\n",
        "    self.train_iter, self.val_iter = BucketIterator.splits(\n",
        "        datasets=(self.train_data, self.val_data),\n",
        "        batch_size=batch_size,\n",
        "        sort_within_batch = True,\n",
        "        sort_key = lambda x: len(x.text),\n",
        "        device=device\n",
        "    )\n",
        "    # prepare padding index to be ignored during model training/evaluation\n",
        "    self.word_pad_idx = self.word_field.vocab.stoi[self.word_field.pad_token]\n",
        "    # self.label_pad_idx = self.tag_field.vocab.stoi[self.label_field.pad_token]"
      ],
      "execution_count": null,
      "outputs": []
    },
    {
      "cell_type": "code",
      "metadata": {
        "id": "00AZVg2_dH7Y",
        "colab": {
          "base_uri": "https://localhost:8080/",
          "height": 52
        },
        "outputId": "4a57988b-da86-4957-e2f7-3e4f95d47a86"
      },
      "source": [
        "device2 = torch.device('cuda' if torch.cuda.is_available() else 'cpu')\n",
        "corpus = Corpus(\n",
        "    input_folder=\"./processed/\",\n",
        "    min_word_freq=2,  \n",
        "    batch_size=64,\n",
        "    device = device2\n",
        ")\n",
        "print(f\"Train set: {len(corpus.train_data)} sentences\")\n",
        "print(f\"Val set: {len(corpus.val_data)} sentences\")"
      ],
      "execution_count": null,
      "outputs": [
        {
          "output_type": "stream",
          "text": [
            "Train set: 6351 sentences\n",
            "Val set: 794 sentences\n"
          ],
          "name": "stdout"
        }
      ]
    },
    {
      "cell_type": "code",
      "metadata": {
        "id": "FjmIIMV_dqIc",
        "colab": {
          "base_uri": "https://localhost:8080/",
          "height": 35
        },
        "outputId": "c842ee79-7fb3-4059-c6fc-6fadcb5606c4"
      },
      "source": [
        "print(len(corpus.word_field.vocab))"
      ],
      "execution_count": null,
      "outputs": [
        {
          "output_type": "stream",
          "text": [
            "8815\n"
          ],
          "name": "stdout"
        }
      ]
    },
    {
      "cell_type": "code",
      "metadata": {
        "id": "PdB7-yaNgKyX"
      },
      "source": [
        "class BiLSTM(nn.Module):\n",
        "  def attention_net(self, a, b):\n",
        "        self.weights1 = torch.bmm(a,b.reshape(1, -1,self.hidden_dim*2).squeeze(0).unsqueeze(2)).squeeze(2)\n",
        "        self.weights2 = F.softmax(self.weights1).unsqueeze(2)\n",
        "        return torch.bmm(a.transpose(1,2), self.weights2).squeeze(2)\n",
        "  def __init__(self, input_dim, embedding_dim, hidden_dim, output_dim, lstm_layers,\n",
        "               emb_dropout, lstm_dropout, fc_dropout, word_pad_idx):\n",
        "    super().__init__()\n",
        "    self.embedding_dim = embedding_dim\n",
        "    self.word_pad_idx = word_pad_idx\n",
        "    self.hidden_dim=hidden_dim\n",
        "    # LAYER 1: Embedding\n",
        "    self.embedding = nn.Embedding(\n",
        "        num_embeddings=input_dim, \n",
        "        embedding_dim=embedding_dim, \n",
        "        padding_idx=word_pad_idx\n",
        "    )\n",
        "    self.emb_dropout = nn.Dropout(emb_dropout)\n",
        "    # LAYER 2: BiLSTM\n",
        "    self.lstm = nn.LSTM(\n",
        "        input_size=embedding_dim,\n",
        "        hidden_size=hidden_dim,\n",
        "        num_layers=lstm_layers,\n",
        "        bidirectional=True,\n",
        "        dropout=lstm_dropout if lstm_layers > 1 else 0\n",
        "    )\n",
        "    #LAYER 3: Attention\n",
        "    \n",
        "    # LAYER 4: Fully-connected\n",
        "    self.fc_dropout = nn.Dropout(fc_dropout)\n",
        "    self.fc = nn.Linear(hidden_dim * 2, output_dim)  # times 2 for bidirectional\n",
        "\n",
        "\n",
        "  def forward(self, sentence):\n",
        "    # sentence = [sentence length, batch size]\n",
        "    # embedding_out = [sentence length, batch size, embedding dim]\n",
        "    embedding_out = self.emb_dropout(self.embedding(sentence))\n",
        "    # lstm_out = [sentence length, batch size, hidden dim * 2]\n",
        "    lstm_out, _ = self.lstm(embedding_out)\n",
        "    # key_padding_mask = torch.as_tensor(sentence == self.word_pad_idx).permute(1, 0)\n",
        "    attn_output =  self.attention_net(lstm_out, lstm_out)\n",
        "\n",
        "    # toxic_out = [sentence length, batch size, output dim]\n",
        "    toxic_out = self.fc(self.fc_dropout(attn_output))\n",
        "\n",
        "    toxic_out2=torch.sigmoid(toxic_out)\n",
        "    return toxic_out2\n",
        "\n",
        "  def init_weights(self):\n",
        "    # to initialize all parameters from normal distribution\n",
        "    # helps with converging during training\n",
        "    for name, param in self.named_parameters():\n",
        "      nn.init.normal_(param.data, mean=0, std=0.1)\n",
        "\n",
        "  def init_embeddings(self, word_pad_idx,pretrained=None):\n",
        "    # initialize embedding for padding as zero\n",
        "    self.embedding.weight.data[word_pad_idx] = torch.zeros(self.embedding_dim)\n",
        "    if pretrained is not None:\n",
        "      self.embedding = nn.Embedding.from_pretrained(\n",
        "                embeddings=torch.as_tensor(pretrained),\n",
        "                padding_idx=word_pad_idx,\n",
        "                freeze=True\n",
        "      )\n",
        "\n",
        "  def count_parameters(self):\n",
        "    return sum(p.numel() for p in self.parameters() if p.requires_grad)"
      ],
      "execution_count": null,
      "outputs": []
    },
    {
      "cell_type": "code",
      "metadata": {
        "id": "q2-WqibW_EdU",
        "colab": {
          "base_uri": "https://localhost:8080/",
          "height": 158
        },
        "outputId": "429b0434-704d-47b2-c3b9-edff2c36c821"
      },
      "source": [
        "bilstm = BiLSTM(\n",
        "    input_dim=len(corpus.word_field.vocab),\n",
        "    embedding_dim=200,\n",
        "    hidden_dim=64,\n",
        "    output_dim=1,\n",
        "    lstm_layers=2,\n",
        "    emb_dropout=0,\n",
        "    lstm_dropout=0,\n",
        "    fc_dropout=0, \n",
        "    word_pad_idx=corpus.word_pad_idx\n",
        ")\n",
        "bilstm.init_weights()\n",
        "# bilstm.init_embeddings(word_pad_idx=corpus.word_pad_idx)\n",
        "bilstm.init_embeddings(\n",
        "    word_pad_idx=corpus.word_pad_idx,\n",
        "    pretrained=corpus.word_field.vocab.vectors\n",
        ")\n",
        "print(f\"The model has {bilstm.count_parameters():,} trainable parameters.\")\n",
        "print(bilstm)"
      ],
      "execution_count": null,
      "outputs": [
        {
          "output_type": "stream",
          "text": [
            "The model has 235,649 trainable parameters.\n",
            "BiLSTM(\n",
            "  (embedding): Embedding(8815, 200, padding_idx=1)\n",
            "  (emb_dropout): Dropout(p=0, inplace=False)\n",
            "  (lstm): LSTM(200, 64, num_layers=2, bidirectional=True)\n",
            "  (fc_dropout): Dropout(p=0, inplace=False)\n",
            "  (fc): Linear(in_features=128, out_features=1, bias=True)\n",
            ")\n"
          ],
          "name": "stdout"
        }
      ]
    },
    {
      "cell_type": "code",
      "metadata": {
        "id": "IO3079aOeof5",
        "colab": {
          "base_uri": "https://localhost:8080/",
          "height": 35
        },
        "outputId": "da8ec101-f292-4560-d2b1-ac3d984ab47e"
      },
      "source": [
        "print(len(corpus.word_field.vocab))"
      ],
      "execution_count": null,
      "outputs": [
        {
          "output_type": "stream",
          "text": [
            "6203\n"
          ],
          "name": "stdout"
        }
      ]
    },
    {
      "cell_type": "markdown",
      "metadata": {
        "id": "GLZRrEZRb1bf"
      },
      "source": [
        "# TRAINER "
      ]
    },
    {
      "cell_type": "code",
      "metadata": {
        "id": "D8rvd6lwb-bO"
      },
      "source": [
        "import time"
      ],
      "execution_count": null,
      "outputs": []
    },
    {
      "cell_type": "code",
      "metadata": {
        "id": "TJaQFF461Emv"
      },
      "source": [
        "class Toxicspan(object):\n",
        "\n",
        "  def __init__(self, model, data, optimizer_cls, loss_fn_cls):\n",
        "    self.model = model\n",
        "    self.data = data\n",
        "    self.optimizer = optimizer_cls(model.parameters())\n",
        "    self.loss_fn = loss_fn_cls()\n",
        "\n",
        "  def accuracy(self, preds, y):\n",
        "    # rounded_preds=preds\n",
        "    rounded_preds = torch.round(preds)\n",
        "    correct = (rounded_preds == y).float()\n",
        "    acc = correct.sum() / len(correct)\n",
        "    return(acc)\n",
        "  def sigmoid(self,x):\n",
        "    return 1/(1 + np.exp(-np.array(x)))\n",
        "  def f1score(self,preds,y):\n",
        "    # rounded_preds = torch.round(preds)\n",
        "    return f1_score(y,preds,average='binary')    \n",
        "\n",
        "  def epoch(self):\n",
        "      epoch_loss = 0\n",
        "      epoch_acc = 0\n",
        "      self.model.train()\n",
        "      batch_f1=[]\n",
        "      true_labels=[]\n",
        "      pred_labels=[]\n",
        "      for batch in self.data.train_iter:\n",
        "        text = batch.text\n",
        "        true_label = batch.label\n",
        "        self.optimizer.zero_grad()\n",
        "        pred_label = self.model(text)\n",
        "        # to calculate the loss and accuracy, we flatten both prediction and true tags\n",
        "        # flatten pred_tags to [sent len, batch size, output dim]\n",
        "        pred_label = pred_label.view(-1)\n",
        "        # flatten true_tags to [sent len * batch size]\n",
        "        true_label = true_label.view(-1)\n",
        "        # print(true_label.shape,pred_label.shape)\n",
        "        batch_loss = self.loss_fn(pred_label, true_label.type(torch.FloatTensor))\n",
        "        batch_acc = self.accuracy(pred_label, true_label)\n",
        "        # batch_f1.append(f1_score(true_label,torch.round(pred_label).detach().numpy(),average='binary'))\n",
        "        true_labels.extend(true_label)\n",
        "        with torch.no_grad():\n",
        "          pred_labels.extend((torch.round(pred_label)))\n",
        "        batch_loss.backward()\n",
        "        self.optimizer.step()\n",
        "        epoch_loss += batch_loss.item()\n",
        "        epoch_acc += batch_acc.item()\n",
        "      # print(pred_labels[0],true_labels[0])\n",
        "      # print(true_label,torch.round(pred_label))\n",
        "      # print(type(pred_labels[0]),type(true_labels[0]))\n",
        "      # print(true_labels[:10],pred_labels[0:10])\n",
        "      # batch_f1=0\n",
        "      batch_f1=self.f1score(pred_labels,true_labels)\n",
        "      return epoch_loss / len(self.data.train_iter), epoch_acc / len(self.data.train_iter), batch_f1\n",
        "\n",
        "  def evaluate(self, iterator):\n",
        "      epoch_loss = 0\n",
        "      epoch_acc = 0\n",
        "      true_labels=[]\n",
        "      pred_labels=[]\n",
        "      self.model.eval()\n",
        "      with torch.no_grad():\n",
        "          # similar to epoch() but model is in evaluation mode and no backprop\n",
        "          for batch in iterator:\n",
        "              text = batch.text\n",
        "              true_label = batch.label\n",
        "              pred_label = self.model(text)\n",
        "              pred_label = pred_label.view(-1)\n",
        "              true_label = true_label.view(-1)\n",
        "              batch_loss = self.loss_fn(pred_label, true_label.type(torch.FloatTensor))\n",
        "              batch_acc = self.accuracy(pred_label, true_label)\n",
        "              epoch_loss += batch_loss.item()\n",
        "              epoch_acc += batch_acc.item()\n",
        "              pred_labels.extend(torch.round(pred_label))\n",
        "              true_labels.extend(true_label)\n",
        "          # print(true_labels[:10],pred_labels[0:10])\n",
        "          batch_f1=self.f1score(pred_labels,true_labels)\n",
        "          print(confusion_matrix(true_labels,pred_labels))\n",
        "      return epoch_loss / len(iterator), epoch_acc / len(iterator), batch_f1\n",
        "\n",
        "  # main training sequence\n",
        "  def train(self, n_epochs):\n",
        "    for epoch in range(n_epochs):\n",
        "        start=time.time()\n",
        "        train_loss, train_acc, train_f1 = self.epoch()\n",
        "        final=time.time()\n",
        "        print(f\"\\tTrn Loss: {train_loss:.3f} | Trn Acc: {train_acc * 100:.2f}% | Trn F1score: {train_f1:.5f}\")\n",
        "        print(\"Epoch time:\",final-start)\n",
        "        val_loss, val_acc,val_f1 = self.evaluate(self.data.val_iter)\n",
        "        print(f\"\\tVal Loss: {val_loss:.3f} | Val Acc: {val_acc * 100:.2f}% | Val F1 :{val_f1:.5f}\")\n",
        "    # test_loss, test_acc = self.evaluate(self.data.test_iter)\n",
        "    # print(f\"Test Loss: {test_loss:.3f} |  Test Acc: {test_acc * 100:.2f}%\")\n",
        "  "
      ],
      "execution_count": null,
      "outputs": []
    },
    {
      "cell_type": "code",
      "metadata": {
        "id": "dKS0swe78uMi",
        "colab": {
          "base_uri": "https://localhost:8080/",
          "height": 366
        },
        "outputId": "66a2c243-7075-4895-b52c-36115f4d1ac9"
      },
      "source": [
        "# this will continue training if the model has been trained before.\n",
        "# to restart training, run the bilstm creation cell (2 cells above) once again.\n",
        "import torch.optim as optim\n",
        "toxic = Toxicspan(\n",
        "  model=bilstm,\n",
        "  data=corpus,\n",
        "  optimizer_cls=optim.Adam,\n",
        "  loss_fn_cls=nn.BCEWithLogitsLoss\n",
        ")\n",
        "toxic.train(10)"
      ],
      "execution_count": null,
      "outputs": [
        {
          "output_type": "error",
          "ename": "RuntimeError",
          "evalue": "ignored",
          "traceback": [
            "\u001b[0;31m---------------------------------------------------------------------------\u001b[0m",
            "\u001b[0;31mRuntimeError\u001b[0m                              Traceback (most recent call last)",
            "\u001b[0;32m<ipython-input-46-921ff6238ddb>\u001b[0m in \u001b[0;36m<module>\u001b[0;34m()\u001b[0m\n\u001b[1;32m      8\u001b[0m   \u001b[0mloss_fn_cls\u001b[0m\u001b[0;34m=\u001b[0m\u001b[0mnn\u001b[0m\u001b[0;34m.\u001b[0m\u001b[0mBCEWithLogitsLoss\u001b[0m\u001b[0;34m\u001b[0m\u001b[0;34m\u001b[0m\u001b[0m\n\u001b[1;32m      9\u001b[0m )\n\u001b[0;32m---> 10\u001b[0;31m \u001b[0mtoxic\u001b[0m\u001b[0;34m.\u001b[0m\u001b[0mtrain\u001b[0m\u001b[0;34m(\u001b[0m\u001b[0;36m10\u001b[0m\u001b[0;34m)\u001b[0m\u001b[0;34m\u001b[0m\u001b[0;34m\u001b[0m\u001b[0m\n\u001b[0m",
            "\u001b[0;32m<ipython-input-34-3db52f12eae2>\u001b[0m in \u001b[0;36mtrain\u001b[0;34m(self, n_epochs)\u001b[0m\n\u001b[1;32m     84\u001b[0m     \u001b[0;32mfor\u001b[0m \u001b[0mepoch\u001b[0m \u001b[0;32min\u001b[0m \u001b[0mrange\u001b[0m\u001b[0;34m(\u001b[0m\u001b[0mn_epochs\u001b[0m\u001b[0;34m)\u001b[0m\u001b[0;34m:\u001b[0m\u001b[0;34m\u001b[0m\u001b[0;34m\u001b[0m\u001b[0m\n\u001b[1;32m     85\u001b[0m         \u001b[0mstart\u001b[0m\u001b[0;34m=\u001b[0m\u001b[0mtime\u001b[0m\u001b[0;34m.\u001b[0m\u001b[0mtime\u001b[0m\u001b[0;34m(\u001b[0m\u001b[0;34m)\u001b[0m\u001b[0;34m\u001b[0m\u001b[0;34m\u001b[0m\u001b[0m\n\u001b[0;32m---> 86\u001b[0;31m         \u001b[0mtrain_loss\u001b[0m\u001b[0;34m,\u001b[0m \u001b[0mtrain_acc\u001b[0m\u001b[0;34m,\u001b[0m \u001b[0mtrain_f1\u001b[0m \u001b[0;34m=\u001b[0m \u001b[0mself\u001b[0m\u001b[0;34m.\u001b[0m\u001b[0mepoch\u001b[0m\u001b[0;34m(\u001b[0m\u001b[0;34m)\u001b[0m\u001b[0;34m\u001b[0m\u001b[0;34m\u001b[0m\u001b[0m\n\u001b[0m\u001b[1;32m     87\u001b[0m         \u001b[0mfinal\u001b[0m\u001b[0;34m=\u001b[0m\u001b[0mtime\u001b[0m\u001b[0;34m.\u001b[0m\u001b[0mtime\u001b[0m\u001b[0;34m(\u001b[0m\u001b[0;34m)\u001b[0m\u001b[0;34m\u001b[0m\u001b[0;34m\u001b[0m\u001b[0m\n\u001b[1;32m     88\u001b[0m         \u001b[0mprint\u001b[0m\u001b[0;34m(\u001b[0m\u001b[0;34mf\"\\tTrn Loss: {train_loss:.3f} | Trn Acc: {train_acc * 100:.2f}% | Trn F1score: {train_f1:.5f}\"\u001b[0m\u001b[0;34m)\u001b[0m\u001b[0;34m\u001b[0m\u001b[0;34m\u001b[0m\u001b[0m\n",
            "\u001b[0;32m<ipython-input-34-3db52f12eae2>\u001b[0m in \u001b[0;36mepoch\u001b[0;34m(self)\u001b[0m\n\u001b[1;32m     30\u001b[0m         \u001b[0mtrue_label\u001b[0m \u001b[0;34m=\u001b[0m \u001b[0mbatch\u001b[0m\u001b[0;34m.\u001b[0m\u001b[0mlabel\u001b[0m\u001b[0;34m\u001b[0m\u001b[0;34m\u001b[0m\u001b[0m\n\u001b[1;32m     31\u001b[0m         \u001b[0mself\u001b[0m\u001b[0;34m.\u001b[0m\u001b[0moptimizer\u001b[0m\u001b[0;34m.\u001b[0m\u001b[0mzero_grad\u001b[0m\u001b[0;34m(\u001b[0m\u001b[0;34m)\u001b[0m\u001b[0;34m\u001b[0m\u001b[0;34m\u001b[0m\u001b[0m\n\u001b[0;32m---> 32\u001b[0;31m         \u001b[0mpred_label\u001b[0m \u001b[0;34m=\u001b[0m \u001b[0mself\u001b[0m\u001b[0;34m.\u001b[0m\u001b[0mmodel\u001b[0m\u001b[0;34m(\u001b[0m\u001b[0mtext\u001b[0m\u001b[0;34m)\u001b[0m\u001b[0;34m\u001b[0m\u001b[0;34m\u001b[0m\u001b[0m\n\u001b[0m\u001b[1;32m     33\u001b[0m         \u001b[0;31m# to calculate the loss and accuracy, we flatten both prediction and true tags\u001b[0m\u001b[0;34m\u001b[0m\u001b[0;34m\u001b[0m\u001b[0;34m\u001b[0m\u001b[0m\n\u001b[1;32m     34\u001b[0m         \u001b[0;31m# flatten pred_tags to [sent len, batch size, output dim]\u001b[0m\u001b[0;34m\u001b[0m\u001b[0;34m\u001b[0m\u001b[0;34m\u001b[0m\u001b[0m\n",
            "\u001b[0;32m/usr/local/lib/python3.6/dist-packages/torch/nn/modules/module.py\u001b[0m in \u001b[0;36m_call_impl\u001b[0;34m(self, *input, **kwargs)\u001b[0m\n\u001b[1;32m    720\u001b[0m             \u001b[0mresult\u001b[0m \u001b[0;34m=\u001b[0m \u001b[0mself\u001b[0m\u001b[0;34m.\u001b[0m\u001b[0m_slow_forward\u001b[0m\u001b[0;34m(\u001b[0m\u001b[0;34m*\u001b[0m\u001b[0minput\u001b[0m\u001b[0;34m,\u001b[0m \u001b[0;34m**\u001b[0m\u001b[0mkwargs\u001b[0m\u001b[0;34m)\u001b[0m\u001b[0;34m\u001b[0m\u001b[0;34m\u001b[0m\u001b[0m\n\u001b[1;32m    721\u001b[0m         \u001b[0;32melse\u001b[0m\u001b[0;34m:\u001b[0m\u001b[0;34m\u001b[0m\u001b[0;34m\u001b[0m\u001b[0m\n\u001b[0;32m--> 722\u001b[0;31m             \u001b[0mresult\u001b[0m \u001b[0;34m=\u001b[0m \u001b[0mself\u001b[0m\u001b[0;34m.\u001b[0m\u001b[0mforward\u001b[0m\u001b[0;34m(\u001b[0m\u001b[0;34m*\u001b[0m\u001b[0minput\u001b[0m\u001b[0;34m,\u001b[0m \u001b[0;34m**\u001b[0m\u001b[0mkwargs\u001b[0m\u001b[0;34m)\u001b[0m\u001b[0;34m\u001b[0m\u001b[0;34m\u001b[0m\u001b[0m\n\u001b[0m\u001b[1;32m    723\u001b[0m         for hook in itertools.chain(\n\u001b[1;32m    724\u001b[0m                 \u001b[0m_global_forward_hooks\u001b[0m\u001b[0;34m.\u001b[0m\u001b[0mvalues\u001b[0m\u001b[0;34m(\u001b[0m\u001b[0;34m)\u001b[0m\u001b[0;34m,\u001b[0m\u001b[0;34m\u001b[0m\u001b[0;34m\u001b[0m\u001b[0m\n",
            "\u001b[0;32m<ipython-input-43-e3af13809bfd>\u001b[0m in \u001b[0;36mforward\u001b[0;34m(self, sentence)\u001b[0m\n\u001b[1;32m     39\u001b[0m     \u001b[0mlstm_out\u001b[0m\u001b[0;34m,\u001b[0m \u001b[0m_\u001b[0m \u001b[0;34m=\u001b[0m \u001b[0mself\u001b[0m\u001b[0;34m.\u001b[0m\u001b[0mlstm\u001b[0m\u001b[0;34m(\u001b[0m\u001b[0membedding_out\u001b[0m\u001b[0;34m)\u001b[0m\u001b[0;34m\u001b[0m\u001b[0;34m\u001b[0m\u001b[0m\n\u001b[1;32m     40\u001b[0m     \u001b[0;31m# key_padding_mask = torch.as_tensor(sentence == self.word_pad_idx).permute(1, 0)\u001b[0m\u001b[0;34m\u001b[0m\u001b[0;34m\u001b[0m\u001b[0;34m\u001b[0m\u001b[0m\n\u001b[0;32m---> 41\u001b[0;31m     \u001b[0mattn_output\u001b[0m \u001b[0;34m=\u001b[0m  \u001b[0mself\u001b[0m\u001b[0;34m.\u001b[0m\u001b[0mattention_net\u001b[0m\u001b[0;34m(\u001b[0m\u001b[0mlstm_out\u001b[0m\u001b[0;34m,\u001b[0m \u001b[0mlstm_out\u001b[0m\u001b[0;34m)\u001b[0m\u001b[0;34m\u001b[0m\u001b[0;34m\u001b[0m\u001b[0m\n\u001b[0m\u001b[1;32m     42\u001b[0m \u001b[0;34m\u001b[0m\u001b[0m\n\u001b[1;32m     43\u001b[0m     \u001b[0;31m# toxic_out = [sentence length, batch size, output dim]\u001b[0m\u001b[0;34m\u001b[0m\u001b[0;34m\u001b[0m\u001b[0;34m\u001b[0m\u001b[0m\n",
            "\u001b[0;32m<ipython-input-43-e3af13809bfd>\u001b[0m in \u001b[0;36mattention_net\u001b[0;34m(self, a, b)\u001b[0m\n\u001b[1;32m      1\u001b[0m \u001b[0;32mclass\u001b[0m \u001b[0mBiLSTM\u001b[0m\u001b[0;34m(\u001b[0m\u001b[0mnn\u001b[0m\u001b[0;34m.\u001b[0m\u001b[0mModule\u001b[0m\u001b[0;34m)\u001b[0m\u001b[0;34m:\u001b[0m\u001b[0;34m\u001b[0m\u001b[0;34m\u001b[0m\u001b[0m\n\u001b[1;32m      2\u001b[0m   \u001b[0;32mdef\u001b[0m \u001b[0mattention_net\u001b[0m\u001b[0;34m(\u001b[0m\u001b[0mself\u001b[0m\u001b[0;34m,\u001b[0m \u001b[0ma\u001b[0m\u001b[0;34m,\u001b[0m \u001b[0mb\u001b[0m\u001b[0;34m)\u001b[0m\u001b[0;34m:\u001b[0m\u001b[0;34m\u001b[0m\u001b[0;34m\u001b[0m\u001b[0m\n\u001b[0;32m----> 3\u001b[0;31m         \u001b[0mself\u001b[0m\u001b[0;34m.\u001b[0m\u001b[0mweights1\u001b[0m \u001b[0;34m=\u001b[0m \u001b[0mtorch\u001b[0m\u001b[0;34m.\u001b[0m\u001b[0mbmm\u001b[0m\u001b[0;34m(\u001b[0m\u001b[0ma\u001b[0m\u001b[0;34m.\u001b[0m\u001b[0mreshape\u001b[0m\u001b[0;34m(\u001b[0m\u001b[0;36m1\u001b[0m\u001b[0;34m,\u001b[0m \u001b[0;34m-\u001b[0m\u001b[0;36m1\u001b[0m\u001b[0;34m,\u001b[0m\u001b[0mself\u001b[0m\u001b[0;34m.\u001b[0m\u001b[0mhidden_dim\u001b[0m\u001b[0;34m*\u001b[0m\u001b[0;36m2\u001b[0m\u001b[0;34m)\u001b[0m\u001b[0;34m.\u001b[0m\u001b[0msqueeze\u001b[0m\u001b[0;34m(\u001b[0m\u001b[0;36m0\u001b[0m\u001b[0;34m)\u001b[0m\u001b[0;34m.\u001b[0m\u001b[0munsqueeze\u001b[0m\u001b[0;34m(\u001b[0m\u001b[0;36m2\u001b[0m\u001b[0;34m)\u001b[0m\u001b[0;34m,\u001b[0m \u001b[0mb\u001b[0m\u001b[0;34m.\u001b[0m\u001b[0mreshape\u001b[0m\u001b[0;34m(\u001b[0m\u001b[0;36m1\u001b[0m\u001b[0;34m,\u001b[0m \u001b[0;34m-\u001b[0m\u001b[0;36m1\u001b[0m\u001b[0;34m,\u001b[0m\u001b[0mself\u001b[0m\u001b[0;34m.\u001b[0m\u001b[0mhidden_dim\u001b[0m\u001b[0;34m*\u001b[0m\u001b[0;36m2\u001b[0m\u001b[0;34m)\u001b[0m\u001b[0;34m.\u001b[0m\u001b[0msqueeze\u001b[0m\u001b[0;34m(\u001b[0m\u001b[0;36m0\u001b[0m\u001b[0;34m)\u001b[0m\u001b[0;34m.\u001b[0m\u001b[0munsqueeze\u001b[0m\u001b[0;34m(\u001b[0m\u001b[0;36m2\u001b[0m\u001b[0;34m)\u001b[0m\u001b[0;34m)\u001b[0m\u001b[0;34m.\u001b[0m\u001b[0msqueeze\u001b[0m\u001b[0;34m(\u001b[0m\u001b[0;36m2\u001b[0m\u001b[0;34m)\u001b[0m\u001b[0;34m\u001b[0m\u001b[0;34m\u001b[0m\u001b[0m\n\u001b[0m\u001b[1;32m      4\u001b[0m         \u001b[0mself\u001b[0m\u001b[0;34m.\u001b[0m\u001b[0mweights2\u001b[0m \u001b[0;34m=\u001b[0m \u001b[0mF\u001b[0m\u001b[0;34m.\u001b[0m\u001b[0msoftmax\u001b[0m\u001b[0;34m(\u001b[0m\u001b[0mself\u001b[0m\u001b[0;34m.\u001b[0m\u001b[0mweights1\u001b[0m\u001b[0;34m)\u001b[0m\u001b[0;34m.\u001b[0m\u001b[0munsqueeze\u001b[0m\u001b[0;34m(\u001b[0m\u001b[0;36m2\u001b[0m\u001b[0;34m)\u001b[0m\u001b[0;34m\u001b[0m\u001b[0;34m\u001b[0m\u001b[0m\n\u001b[1;32m      5\u001b[0m         \u001b[0;32mreturn\u001b[0m \u001b[0mtorch\u001b[0m\u001b[0;34m.\u001b[0m\u001b[0mbmm\u001b[0m\u001b[0;34m(\u001b[0m\u001b[0ma\u001b[0m\u001b[0;34m.\u001b[0m\u001b[0mtranspose\u001b[0m\u001b[0;34m(\u001b[0m\u001b[0;36m1\u001b[0m\u001b[0;34m,\u001b[0m\u001b[0;36m2\u001b[0m\u001b[0;34m)\u001b[0m\u001b[0;34m,\u001b[0m \u001b[0mself\u001b[0m\u001b[0;34m.\u001b[0m\u001b[0mweights2\u001b[0m\u001b[0;34m)\u001b[0m\u001b[0;34m.\u001b[0m\u001b[0msqueeze\u001b[0m\u001b[0;34m(\u001b[0m\u001b[0;36m2\u001b[0m\u001b[0;34m)\u001b[0m\u001b[0;34m\u001b[0m\u001b[0;34m\u001b[0m\u001b[0m\n",
            "\u001b[0;31mRuntimeError\u001b[0m: Expected tensor to have size 1 at dimension 1, but got size 128 for argument #2 'batch2' (while checking arguments for bmm)"
          ]
        }
      ]
    },
    {
      "cell_type": "code",
      "metadata": {
        "id": "8HpwiyrmNT5Z"
      },
      "source": [
        "\n",
        "\n"
      ],
      "execution_count": null,
      "outputs": []
    },
    {
      "cell_type": "code",
      "metadata": {
        "id": "5BLr7X43Zpim"
      },
      "source": [
        ""
      ],
      "execution_count": null,
      "outputs": []
    }
  ]
}