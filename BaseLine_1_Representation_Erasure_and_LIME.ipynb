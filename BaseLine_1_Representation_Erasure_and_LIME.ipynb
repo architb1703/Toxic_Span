{
  "nbformat": 4,
  "nbformat_minor": 0,
  "metadata": {
    "colab": {
      "name": "BaseLine - 1 : Representation Erasure and LIME",
      "provenance": [],
      "collapsed_sections": []
    },
    "kernelspec": {
      "name": "python3",
      "display_name": "Python 3"
    },
    "accelerator": "GPU",
    "widgets": {
      "application/vnd.jupyter.widget-state+json": {
        "fe0d1c80c314474981a63f5772ca7f43": {
          "model_module": "@jupyter-widgets/controls",
          "model_name": "HBoxModel",
          "state": {
            "_view_name": "HBoxView",
            "_dom_classes": [],
            "_model_name": "HBoxModel",
            "_view_module": "@jupyter-widgets/controls",
            "_model_module_version": "1.5.0",
            "_view_count": null,
            "_view_module_version": "1.5.0",
            "box_style": "",
            "layout": "IPY_MODEL_f52e7fd716a645939286ab6d2710f7ba",
            "_model_module": "@jupyter-widgets/controls",
            "children": [
              "IPY_MODEL_85fa235280134c75ba77fff8ccd68064",
              "IPY_MODEL_6dd0b70c46a94016a625662fd0f1b3a6"
            ]
          }
        },
        "f52e7fd716a645939286ab6d2710f7ba": {
          "model_module": "@jupyter-widgets/base",
          "model_name": "LayoutModel",
          "state": {
            "_view_name": "LayoutView",
            "grid_template_rows": null,
            "right": null,
            "justify_content": null,
            "_view_module": "@jupyter-widgets/base",
            "overflow": null,
            "_model_module_version": "1.2.0",
            "_view_count": null,
            "flex_flow": null,
            "width": null,
            "min_width": null,
            "border": null,
            "align_items": null,
            "bottom": null,
            "_model_module": "@jupyter-widgets/base",
            "top": null,
            "grid_column": null,
            "overflow_y": null,
            "overflow_x": null,
            "grid_auto_flow": null,
            "grid_area": null,
            "grid_template_columns": null,
            "flex": null,
            "_model_name": "LayoutModel",
            "justify_items": null,
            "grid_row": null,
            "max_height": null,
            "align_content": null,
            "visibility": null,
            "align_self": null,
            "height": null,
            "min_height": null,
            "padding": null,
            "grid_auto_rows": null,
            "grid_gap": null,
            "max_width": null,
            "order": null,
            "_view_module_version": "1.2.0",
            "grid_template_areas": null,
            "object_position": null,
            "object_fit": null,
            "grid_auto_columns": null,
            "margin": null,
            "display": null,
            "left": null
          }
        },
        "85fa235280134c75ba77fff8ccd68064": {
          "model_module": "@jupyter-widgets/controls",
          "model_name": "FloatProgressModel",
          "state": {
            "_view_name": "ProgressView",
            "style": "IPY_MODEL_3d14976e40e5413bb70d44cf67929ace",
            "_dom_classes": [],
            "description": "Downloading: ",
            "_model_name": "FloatProgressModel",
            "bar_style": "success",
            "max": 2445,
            "_view_module": "@jupyter-widgets/controls",
            "_model_module_version": "1.5.0",
            "value": 2445,
            "_view_count": null,
            "_view_module_version": "1.5.0",
            "orientation": "horizontal",
            "min": 0,
            "description_tooltip": null,
            "_model_module": "@jupyter-widgets/controls",
            "layout": "IPY_MODEL_4e67b95fa282488a83742d12f67008eb"
          }
        },
        "6dd0b70c46a94016a625662fd0f1b3a6": {
          "model_module": "@jupyter-widgets/controls",
          "model_name": "HTMLModel",
          "state": {
            "_view_name": "HTMLView",
            "style": "IPY_MODEL_aa3c1c8083984a088a1dfdc10224f239",
            "_dom_classes": [],
            "description": "",
            "_model_name": "HTMLModel",
            "placeholder": "​",
            "_view_module": "@jupyter-widgets/controls",
            "_model_module_version": "1.5.0",
            "value": " 6.23k/? [00:24&lt;00:00, 257B/s]",
            "_view_count": null,
            "_view_module_version": "1.5.0",
            "description_tooltip": null,
            "_model_module": "@jupyter-widgets/controls",
            "layout": "IPY_MODEL_3afb74d3531a42a8845cf97f63f82a6a"
          }
        },
        "3d14976e40e5413bb70d44cf67929ace": {
          "model_module": "@jupyter-widgets/controls",
          "model_name": "ProgressStyleModel",
          "state": {
            "_view_name": "StyleView",
            "_model_name": "ProgressStyleModel",
            "description_width": "initial",
            "_view_module": "@jupyter-widgets/base",
            "_model_module_version": "1.5.0",
            "_view_count": null,
            "_view_module_version": "1.2.0",
            "bar_color": null,
            "_model_module": "@jupyter-widgets/controls"
          }
        },
        "4e67b95fa282488a83742d12f67008eb": {
          "model_module": "@jupyter-widgets/base",
          "model_name": "LayoutModel",
          "state": {
            "_view_name": "LayoutView",
            "grid_template_rows": null,
            "right": null,
            "justify_content": null,
            "_view_module": "@jupyter-widgets/base",
            "overflow": null,
            "_model_module_version": "1.2.0",
            "_view_count": null,
            "flex_flow": null,
            "width": null,
            "min_width": null,
            "border": null,
            "align_items": null,
            "bottom": null,
            "_model_module": "@jupyter-widgets/base",
            "top": null,
            "grid_column": null,
            "overflow_y": null,
            "overflow_x": null,
            "grid_auto_flow": null,
            "grid_area": null,
            "grid_template_columns": null,
            "flex": null,
            "_model_name": "LayoutModel",
            "justify_items": null,
            "grid_row": null,
            "max_height": null,
            "align_content": null,
            "visibility": null,
            "align_self": null,
            "height": null,
            "min_height": null,
            "padding": null,
            "grid_auto_rows": null,
            "grid_gap": null,
            "max_width": null,
            "order": null,
            "_view_module_version": "1.2.0",
            "grid_template_areas": null,
            "object_position": null,
            "object_fit": null,
            "grid_auto_columns": null,
            "margin": null,
            "display": null,
            "left": null
          }
        },
        "aa3c1c8083984a088a1dfdc10224f239": {
          "model_module": "@jupyter-widgets/controls",
          "model_name": "DescriptionStyleModel",
          "state": {
            "_view_name": "StyleView",
            "_model_name": "DescriptionStyleModel",
            "description_width": "",
            "_view_module": "@jupyter-widgets/base",
            "_model_module_version": "1.5.0",
            "_view_count": null,
            "_view_module_version": "1.2.0",
            "_model_module": "@jupyter-widgets/controls"
          }
        },
        "3afb74d3531a42a8845cf97f63f82a6a": {
          "model_module": "@jupyter-widgets/base",
          "model_name": "LayoutModel",
          "state": {
            "_view_name": "LayoutView",
            "grid_template_rows": null,
            "right": null,
            "justify_content": null,
            "_view_module": "@jupyter-widgets/base",
            "overflow": null,
            "_model_module_version": "1.2.0",
            "_view_count": null,
            "flex_flow": null,
            "width": null,
            "min_width": null,
            "border": null,
            "align_items": null,
            "bottom": null,
            "_model_module": "@jupyter-widgets/base",
            "top": null,
            "grid_column": null,
            "overflow_y": null,
            "overflow_x": null,
            "grid_auto_flow": null,
            "grid_area": null,
            "grid_template_columns": null,
            "flex": null,
            "_model_name": "LayoutModel",
            "justify_items": null,
            "grid_row": null,
            "max_height": null,
            "align_content": null,
            "visibility": null,
            "align_self": null,
            "height": null,
            "min_height": null,
            "padding": null,
            "grid_auto_rows": null,
            "grid_gap": null,
            "max_width": null,
            "order": null,
            "_view_module_version": "1.2.0",
            "grid_template_areas": null,
            "object_position": null,
            "object_fit": null,
            "grid_auto_columns": null,
            "margin": null,
            "display": null,
            "left": null
          }
        },
        "e4ee9ff580cf4ae28f5f09b1e0a05e2b": {
          "model_module": "@jupyter-widgets/controls",
          "model_name": "HBoxModel",
          "state": {
            "_view_name": "HBoxView",
            "_dom_classes": [],
            "_model_name": "HBoxModel",
            "_view_module": "@jupyter-widgets/controls",
            "_model_module_version": "1.5.0",
            "_view_count": null,
            "_view_module_version": "1.5.0",
            "box_style": "",
            "layout": "IPY_MODEL_1fbeffdb1fd24514808b0319c66530c8",
            "_model_module": "@jupyter-widgets/controls",
            "children": [
              "IPY_MODEL_cbc9f11e93404ee99f6c4e2e14cb915a",
              "IPY_MODEL_126cf69210d949b991e8a2c9f5633c47"
            ]
          }
        },
        "1fbeffdb1fd24514808b0319c66530c8": {
          "model_module": "@jupyter-widgets/base",
          "model_name": "LayoutModel",
          "state": {
            "_view_name": "LayoutView",
            "grid_template_rows": null,
            "right": null,
            "justify_content": null,
            "_view_module": "@jupyter-widgets/base",
            "overflow": null,
            "_model_module_version": "1.2.0",
            "_view_count": null,
            "flex_flow": null,
            "width": null,
            "min_width": null,
            "border": null,
            "align_items": null,
            "bottom": null,
            "_model_module": "@jupyter-widgets/base",
            "top": null,
            "grid_column": null,
            "overflow_y": null,
            "overflow_x": null,
            "grid_auto_flow": null,
            "grid_area": null,
            "grid_template_columns": null,
            "flex": null,
            "_model_name": "LayoutModel",
            "justify_items": null,
            "grid_row": null,
            "max_height": null,
            "align_content": null,
            "visibility": null,
            "align_self": null,
            "height": null,
            "min_height": null,
            "padding": null,
            "grid_auto_rows": null,
            "grid_gap": null,
            "max_width": null,
            "order": null,
            "_view_module_version": "1.2.0",
            "grid_template_areas": null,
            "object_position": null,
            "object_fit": null,
            "grid_auto_columns": null,
            "margin": null,
            "display": null,
            "left": null
          }
        },
        "cbc9f11e93404ee99f6c4e2e14cb915a": {
          "model_module": "@jupyter-widgets/controls",
          "model_name": "FloatProgressModel",
          "state": {
            "_view_name": "ProgressView",
            "style": "IPY_MODEL_b04c97df57b34883bf94069fa29720ed",
            "_dom_classes": [],
            "description": "Downloading: ",
            "_model_name": "FloatProgressModel",
            "bar_style": "success",
            "max": 1377,
            "_view_module": "@jupyter-widgets/controls",
            "_model_module_version": "1.5.0",
            "value": 1377,
            "_view_count": null,
            "_view_module_version": "1.5.0",
            "orientation": "horizontal",
            "min": 0,
            "description_tooltip": null,
            "_model_module": "@jupyter-widgets/controls",
            "layout": "IPY_MODEL_d97113fbdad64102887ca3864ea91c08"
          }
        },
        "126cf69210d949b991e8a2c9f5633c47": {
          "model_module": "@jupyter-widgets/controls",
          "model_name": "HTMLModel",
          "state": {
            "_view_name": "HTMLView",
            "style": "IPY_MODEL_0fe31f99942944c0b438fb1f44c18043",
            "_dom_classes": [],
            "description": "",
            "_model_name": "HTMLModel",
            "placeholder": "​",
            "_view_module": "@jupyter-widgets/controls",
            "_model_module_version": "1.5.0",
            "value": " 3.25k/? [00:00&lt;00:00, 7.86kB/s]",
            "_view_count": null,
            "_view_module_version": "1.5.0",
            "description_tooltip": null,
            "_model_module": "@jupyter-widgets/controls",
            "layout": "IPY_MODEL_cd5565ab8a7349ce9dab45373c03b16e"
          }
        },
        "b04c97df57b34883bf94069fa29720ed": {
          "model_module": "@jupyter-widgets/controls",
          "model_name": "ProgressStyleModel",
          "state": {
            "_view_name": "StyleView",
            "_model_name": "ProgressStyleModel",
            "description_width": "initial",
            "_view_module": "@jupyter-widgets/base",
            "_model_module_version": "1.5.0",
            "_view_count": null,
            "_view_module_version": "1.2.0",
            "bar_color": null,
            "_model_module": "@jupyter-widgets/controls"
          }
        },
        "d97113fbdad64102887ca3864ea91c08": {
          "model_module": "@jupyter-widgets/base",
          "model_name": "LayoutModel",
          "state": {
            "_view_name": "LayoutView",
            "grid_template_rows": null,
            "right": null,
            "justify_content": null,
            "_view_module": "@jupyter-widgets/base",
            "overflow": null,
            "_model_module_version": "1.2.0",
            "_view_count": null,
            "flex_flow": null,
            "width": null,
            "min_width": null,
            "border": null,
            "align_items": null,
            "bottom": null,
            "_model_module": "@jupyter-widgets/base",
            "top": null,
            "grid_column": null,
            "overflow_y": null,
            "overflow_x": null,
            "grid_auto_flow": null,
            "grid_area": null,
            "grid_template_columns": null,
            "flex": null,
            "_model_name": "LayoutModel",
            "justify_items": null,
            "grid_row": null,
            "max_height": null,
            "align_content": null,
            "visibility": null,
            "align_self": null,
            "height": null,
            "min_height": null,
            "padding": null,
            "grid_auto_rows": null,
            "grid_gap": null,
            "max_width": null,
            "order": null,
            "_view_module_version": "1.2.0",
            "grid_template_areas": null,
            "object_position": null,
            "object_fit": null,
            "grid_auto_columns": null,
            "margin": null,
            "display": null,
            "left": null
          }
        },
        "0fe31f99942944c0b438fb1f44c18043": {
          "model_module": "@jupyter-widgets/controls",
          "model_name": "DescriptionStyleModel",
          "state": {
            "_view_name": "StyleView",
            "_model_name": "DescriptionStyleModel",
            "description_width": "",
            "_view_module": "@jupyter-widgets/base",
            "_model_module_version": "1.5.0",
            "_view_count": null,
            "_view_module_version": "1.2.0",
            "_model_module": "@jupyter-widgets/controls"
          }
        },
        "cd5565ab8a7349ce9dab45373c03b16e": {
          "model_module": "@jupyter-widgets/base",
          "model_name": "LayoutModel",
          "state": {
            "_view_name": "LayoutView",
            "grid_template_rows": null,
            "right": null,
            "justify_content": null,
            "_view_module": "@jupyter-widgets/base",
            "overflow": null,
            "_model_module_version": "1.2.0",
            "_view_count": null,
            "flex_flow": null,
            "width": null,
            "min_width": null,
            "border": null,
            "align_items": null,
            "bottom": null,
            "_model_module": "@jupyter-widgets/base",
            "top": null,
            "grid_column": null,
            "overflow_y": null,
            "overflow_x": null,
            "grid_auto_flow": null,
            "grid_area": null,
            "grid_template_columns": null,
            "flex": null,
            "_model_name": "LayoutModel",
            "justify_items": null,
            "grid_row": null,
            "max_height": null,
            "align_content": null,
            "visibility": null,
            "align_self": null,
            "height": null,
            "min_height": null,
            "padding": null,
            "grid_auto_rows": null,
            "grid_gap": null,
            "max_width": null,
            "order": null,
            "_view_module_version": "1.2.0",
            "grid_template_areas": null,
            "object_position": null,
            "object_fit": null,
            "grid_auto_columns": null,
            "margin": null,
            "display": null,
            "left": null
          }
        },
        "d60ba06cd0454a9b8fdb85a38116191d": {
          "model_module": "@jupyter-widgets/controls",
          "model_name": "HBoxModel",
          "state": {
            "_view_name": "HBoxView",
            "_dom_classes": [],
            "_model_name": "HBoxModel",
            "_view_module": "@jupyter-widgets/controls",
            "_model_module_version": "1.5.0",
            "_view_count": null,
            "_view_module_version": "1.5.0",
            "box_style": "",
            "layout": "IPY_MODEL_f1e1db26baa64d9280488b817c36d5da",
            "_model_module": "@jupyter-widgets/controls",
            "children": [
              "IPY_MODEL_5660dd0c0a8b480eb399f7f525eb4bce",
              "IPY_MODEL_3dfe432c16e44f45b727824f3eb8e1c4"
            ]
          }
        },
        "f1e1db26baa64d9280488b817c36d5da": {
          "model_module": "@jupyter-widgets/base",
          "model_name": "LayoutModel",
          "state": {
            "_view_name": "LayoutView",
            "grid_template_rows": null,
            "right": null,
            "justify_content": null,
            "_view_module": "@jupyter-widgets/base",
            "overflow": null,
            "_model_module_version": "1.2.0",
            "_view_count": null,
            "flex_flow": null,
            "width": null,
            "min_width": null,
            "border": null,
            "align_items": null,
            "bottom": null,
            "_model_module": "@jupyter-widgets/base",
            "top": null,
            "grid_column": null,
            "overflow_y": null,
            "overflow_x": null,
            "grid_auto_flow": null,
            "grid_area": null,
            "grid_template_columns": null,
            "flex": null,
            "_model_name": "LayoutModel",
            "justify_items": null,
            "grid_row": null,
            "max_height": null,
            "align_content": null,
            "visibility": null,
            "align_self": null,
            "height": null,
            "min_height": null,
            "padding": null,
            "grid_auto_rows": null,
            "grid_gap": null,
            "max_width": null,
            "order": null,
            "_view_module_version": "1.2.0",
            "grid_template_areas": null,
            "object_position": null,
            "object_fit": null,
            "grid_auto_columns": null,
            "margin": null,
            "display": null,
            "left": null
          }
        },
        "5660dd0c0a8b480eb399f7f525eb4bce": {
          "model_module": "@jupyter-widgets/controls",
          "model_name": "FloatProgressModel",
          "state": {
            "_view_name": "ProgressView",
            "style": "IPY_MODEL_ee84328e4b8c4b9dbfb1ce5be10ee8e1",
            "_dom_classes": [],
            "description": "Downloading: 100%",
            "_model_name": "FloatProgressModel",
            "bar_style": "success",
            "max": 414947977,
            "_view_module": "@jupyter-widgets/controls",
            "_model_module_version": "1.5.0",
            "value": 414947977,
            "_view_count": null,
            "_view_module_version": "1.5.0",
            "orientation": "horizontal",
            "min": 0,
            "description_tooltip": null,
            "_model_module": "@jupyter-widgets/controls",
            "layout": "IPY_MODEL_7c2391b179364bf9b8a2804183c65b0c"
          }
        },
        "3dfe432c16e44f45b727824f3eb8e1c4": {
          "model_module": "@jupyter-widgets/controls",
          "model_name": "HTMLModel",
          "state": {
            "_view_name": "HTMLView",
            "style": "IPY_MODEL_df19153f877a4e04904b523b10e316ac",
            "_dom_classes": [],
            "description": "",
            "_model_name": "HTMLModel",
            "placeholder": "​",
            "_view_module": "@jupyter-widgets/controls",
            "_model_module_version": "1.5.0",
            "value": " 415M/415M [00:23&lt;00:00, 17.6MB/s]",
            "_view_count": null,
            "_view_module_version": "1.5.0",
            "description_tooltip": null,
            "_model_module": "@jupyter-widgets/controls",
            "layout": "IPY_MODEL_8795353e7fb54d3abeab1f353d49befc"
          }
        },
        "ee84328e4b8c4b9dbfb1ce5be10ee8e1": {
          "model_module": "@jupyter-widgets/controls",
          "model_name": "ProgressStyleModel",
          "state": {
            "_view_name": "StyleView",
            "_model_name": "ProgressStyleModel",
            "description_width": "initial",
            "_view_module": "@jupyter-widgets/base",
            "_model_module_version": "1.5.0",
            "_view_count": null,
            "_view_module_version": "1.2.0",
            "bar_color": null,
            "_model_module": "@jupyter-widgets/controls"
          }
        },
        "7c2391b179364bf9b8a2804183c65b0c": {
          "model_module": "@jupyter-widgets/base",
          "model_name": "LayoutModel",
          "state": {
            "_view_name": "LayoutView",
            "grid_template_rows": null,
            "right": null,
            "justify_content": null,
            "_view_module": "@jupyter-widgets/base",
            "overflow": null,
            "_model_module_version": "1.2.0",
            "_view_count": null,
            "flex_flow": null,
            "width": null,
            "min_width": null,
            "border": null,
            "align_items": null,
            "bottom": null,
            "_model_module": "@jupyter-widgets/base",
            "top": null,
            "grid_column": null,
            "overflow_y": null,
            "overflow_x": null,
            "grid_auto_flow": null,
            "grid_area": null,
            "grid_template_columns": null,
            "flex": null,
            "_model_name": "LayoutModel",
            "justify_items": null,
            "grid_row": null,
            "max_height": null,
            "align_content": null,
            "visibility": null,
            "align_self": null,
            "height": null,
            "min_height": null,
            "padding": null,
            "grid_auto_rows": null,
            "grid_gap": null,
            "max_width": null,
            "order": null,
            "_view_module_version": "1.2.0",
            "grid_template_areas": null,
            "object_position": null,
            "object_fit": null,
            "grid_auto_columns": null,
            "margin": null,
            "display": null,
            "left": null
          }
        },
        "df19153f877a4e04904b523b10e316ac": {
          "model_module": "@jupyter-widgets/controls",
          "model_name": "DescriptionStyleModel",
          "state": {
            "_view_name": "StyleView",
            "_model_name": "DescriptionStyleModel",
            "description_width": "",
            "_view_module": "@jupyter-widgets/base",
            "_model_module_version": "1.5.0",
            "_view_count": null,
            "_view_module_version": "1.2.0",
            "_model_module": "@jupyter-widgets/controls"
          }
        },
        "8795353e7fb54d3abeab1f353d49befc": {
          "model_module": "@jupyter-widgets/base",
          "model_name": "LayoutModel",
          "state": {
            "_view_name": "LayoutView",
            "grid_template_rows": null,
            "right": null,
            "justify_content": null,
            "_view_module": "@jupyter-widgets/base",
            "overflow": null,
            "_model_module_version": "1.2.0",
            "_view_count": null,
            "flex_flow": null,
            "width": null,
            "min_width": null,
            "border": null,
            "align_items": null,
            "bottom": null,
            "_model_module": "@jupyter-widgets/base",
            "top": null,
            "grid_column": null,
            "overflow_y": null,
            "overflow_x": null,
            "grid_auto_flow": null,
            "grid_area": null,
            "grid_template_columns": null,
            "flex": null,
            "_model_name": "LayoutModel",
            "justify_items": null,
            "grid_row": null,
            "max_height": null,
            "align_content": null,
            "visibility": null,
            "align_self": null,
            "height": null,
            "min_height": null,
            "padding": null,
            "grid_auto_rows": null,
            "grid_gap": null,
            "max_width": null,
            "order": null,
            "_view_module_version": "1.2.0",
            "grid_template_areas": null,
            "object_position": null,
            "object_fit": null,
            "grid_auto_columns": null,
            "margin": null,
            "display": null,
            "left": null
          }
        },
        "d4e7dafcffa945798ec7e1cc1c5e6eba": {
          "model_module": "@jupyter-widgets/controls",
          "model_name": "HBoxModel",
          "state": {
            "_view_name": "HBoxView",
            "_dom_classes": [],
            "_model_name": "HBoxModel",
            "_view_module": "@jupyter-widgets/controls",
            "_model_module_version": "1.5.0",
            "_view_count": null,
            "_view_module_version": "1.5.0",
            "box_style": "",
            "layout": "IPY_MODEL_877b4081a627434fab9bec266ae6bb73",
            "_model_module": "@jupyter-widgets/controls",
            "children": [
              "IPY_MODEL_6aa089dfdfd343489cc7471a9e7066fc",
              "IPY_MODEL_19732fb6914241ad942c31fcf6c16a1f"
            ]
          }
        },
        "877b4081a627434fab9bec266ae6bb73": {
          "model_module": "@jupyter-widgets/base",
          "model_name": "LayoutModel",
          "state": {
            "_view_name": "LayoutView",
            "grid_template_rows": null,
            "right": null,
            "justify_content": null,
            "_view_module": "@jupyter-widgets/base",
            "overflow": null,
            "_model_module_version": "1.2.0",
            "_view_count": null,
            "flex_flow": null,
            "width": null,
            "min_width": null,
            "border": null,
            "align_items": null,
            "bottom": null,
            "_model_module": "@jupyter-widgets/base",
            "top": null,
            "grid_column": null,
            "overflow_y": null,
            "overflow_x": null,
            "grid_auto_flow": null,
            "grid_area": null,
            "grid_template_columns": null,
            "flex": null,
            "_model_name": "LayoutModel",
            "justify_items": null,
            "grid_row": null,
            "max_height": null,
            "align_content": null,
            "visibility": null,
            "align_self": null,
            "height": null,
            "min_height": null,
            "padding": null,
            "grid_auto_rows": null,
            "grid_gap": null,
            "max_width": null,
            "order": null,
            "_view_module_version": "1.2.0",
            "grid_template_areas": null,
            "object_position": null,
            "object_fit": null,
            "grid_auto_columns": null,
            "margin": null,
            "display": null,
            "left": null
          }
        },
        "6aa089dfdfd343489cc7471a9e7066fc": {
          "model_module": "@jupyter-widgets/controls",
          "model_name": "FloatProgressModel",
          "state": {
            "_view_name": "ProgressView",
            "style": "IPY_MODEL_849105f61aaa4c119c7278bca610a7b2",
            "_dom_classes": [],
            "description": "",
            "_model_name": "FloatProgressModel",
            "bar_style": "info",
            "max": 1,
            "_view_module": "@jupyter-widgets/controls",
            "_model_module_version": "1.5.0",
            "value": 1,
            "_view_count": null,
            "_view_module_version": "1.5.0",
            "orientation": "horizontal",
            "min": 0,
            "description_tooltip": null,
            "_model_module": "@jupyter-widgets/controls",
            "layout": "IPY_MODEL_5f20f42970e8481999dce59562a2529b"
          }
        },
        "19732fb6914241ad942c31fcf6c16a1f": {
          "model_module": "@jupyter-widgets/controls",
          "model_name": "HTMLModel",
          "state": {
            "_view_name": "HTMLView",
            "style": "IPY_MODEL_5d1f771b9e7f41408c3a91e7a68e12cd",
            "_dom_classes": [],
            "description": "",
            "_model_name": "HTMLModel",
            "placeholder": "​",
            "_view_module": "@jupyter-widgets/controls",
            "_model_module_version": "1.5.0",
            "value": " 1804874/0 [02:14&lt;00:00, 13879.86 examples/s]",
            "_view_count": null,
            "_view_module_version": "1.5.0",
            "description_tooltip": null,
            "_model_module": "@jupyter-widgets/controls",
            "layout": "IPY_MODEL_dad41f711b0347c39ce9449a77ffc094"
          }
        },
        "849105f61aaa4c119c7278bca610a7b2": {
          "model_module": "@jupyter-widgets/controls",
          "model_name": "ProgressStyleModel",
          "state": {
            "_view_name": "StyleView",
            "_model_name": "ProgressStyleModel",
            "description_width": "initial",
            "_view_module": "@jupyter-widgets/base",
            "_model_module_version": "1.5.0",
            "_view_count": null,
            "_view_module_version": "1.2.0",
            "bar_color": null,
            "_model_module": "@jupyter-widgets/controls"
          }
        },
        "5f20f42970e8481999dce59562a2529b": {
          "model_module": "@jupyter-widgets/base",
          "model_name": "LayoutModel",
          "state": {
            "_view_name": "LayoutView",
            "grid_template_rows": null,
            "right": null,
            "justify_content": null,
            "_view_module": "@jupyter-widgets/base",
            "overflow": null,
            "_model_module_version": "1.2.0",
            "_view_count": null,
            "flex_flow": null,
            "width": null,
            "min_width": null,
            "border": null,
            "align_items": null,
            "bottom": null,
            "_model_module": "@jupyter-widgets/base",
            "top": null,
            "grid_column": null,
            "overflow_y": null,
            "overflow_x": null,
            "grid_auto_flow": null,
            "grid_area": null,
            "grid_template_columns": null,
            "flex": null,
            "_model_name": "LayoutModel",
            "justify_items": null,
            "grid_row": null,
            "max_height": null,
            "align_content": null,
            "visibility": null,
            "align_self": null,
            "height": null,
            "min_height": null,
            "padding": null,
            "grid_auto_rows": null,
            "grid_gap": null,
            "max_width": null,
            "order": null,
            "_view_module_version": "1.2.0",
            "grid_template_areas": null,
            "object_position": null,
            "object_fit": null,
            "grid_auto_columns": null,
            "margin": null,
            "display": null,
            "left": null
          }
        },
        "5d1f771b9e7f41408c3a91e7a68e12cd": {
          "model_module": "@jupyter-widgets/controls",
          "model_name": "DescriptionStyleModel",
          "state": {
            "_view_name": "StyleView",
            "_model_name": "DescriptionStyleModel",
            "description_width": "",
            "_view_module": "@jupyter-widgets/base",
            "_model_module_version": "1.5.0",
            "_view_count": null,
            "_view_module_version": "1.2.0",
            "_model_module": "@jupyter-widgets/controls"
          }
        },
        "dad41f711b0347c39ce9449a77ffc094": {
          "model_module": "@jupyter-widgets/base",
          "model_name": "LayoutModel",
          "state": {
            "_view_name": "LayoutView",
            "grid_template_rows": null,
            "right": null,
            "justify_content": null,
            "_view_module": "@jupyter-widgets/base",
            "overflow": null,
            "_model_module_version": "1.2.0",
            "_view_count": null,
            "flex_flow": null,
            "width": null,
            "min_width": null,
            "border": null,
            "align_items": null,
            "bottom": null,
            "_model_module": "@jupyter-widgets/base",
            "top": null,
            "grid_column": null,
            "overflow_y": null,
            "overflow_x": null,
            "grid_auto_flow": null,
            "grid_area": null,
            "grid_template_columns": null,
            "flex": null,
            "_model_name": "LayoutModel",
            "justify_items": null,
            "grid_row": null,
            "max_height": null,
            "align_content": null,
            "visibility": null,
            "align_self": null,
            "height": null,
            "min_height": null,
            "padding": null,
            "grid_auto_rows": null,
            "grid_gap": null,
            "max_width": null,
            "order": null,
            "_view_module_version": "1.2.0",
            "grid_template_areas": null,
            "object_position": null,
            "object_fit": null,
            "grid_auto_columns": null,
            "margin": null,
            "display": null,
            "left": null
          }
        },
        "3850522d9c944529af6efd60c4b477ab": {
          "model_module": "@jupyter-widgets/controls",
          "model_name": "HBoxModel",
          "state": {
            "_view_name": "HBoxView",
            "_dom_classes": [],
            "_model_name": "HBoxModel",
            "_view_module": "@jupyter-widgets/controls",
            "_model_module_version": "1.5.0",
            "_view_count": null,
            "_view_module_version": "1.5.0",
            "box_style": "",
            "layout": "IPY_MODEL_318a41b97e9c42e5b88de494b10eaa67",
            "_model_module": "@jupyter-widgets/controls",
            "children": [
              "IPY_MODEL_0afff4e6a1c94a1e8507a9667283ddc2",
              "IPY_MODEL_5816d4b6312b4772848c31746ef79e12"
            ]
          }
        },
        "318a41b97e9c42e5b88de494b10eaa67": {
          "model_module": "@jupyter-widgets/base",
          "model_name": "LayoutModel",
          "state": {
            "_view_name": "LayoutView",
            "grid_template_rows": null,
            "right": null,
            "justify_content": null,
            "_view_module": "@jupyter-widgets/base",
            "overflow": null,
            "_model_module_version": "1.2.0",
            "_view_count": null,
            "flex_flow": null,
            "width": null,
            "min_width": null,
            "border": null,
            "align_items": null,
            "bottom": null,
            "_model_module": "@jupyter-widgets/base",
            "top": null,
            "grid_column": null,
            "overflow_y": null,
            "overflow_x": null,
            "grid_auto_flow": null,
            "grid_area": null,
            "grid_template_columns": null,
            "flex": null,
            "_model_name": "LayoutModel",
            "justify_items": null,
            "grid_row": null,
            "max_height": null,
            "align_content": null,
            "visibility": null,
            "align_self": null,
            "height": null,
            "min_height": null,
            "padding": null,
            "grid_auto_rows": null,
            "grid_gap": null,
            "max_width": null,
            "order": null,
            "_view_module_version": "1.2.0",
            "grid_template_areas": null,
            "object_position": null,
            "object_fit": null,
            "grid_auto_columns": null,
            "margin": null,
            "display": null,
            "left": null
          }
        },
        "0afff4e6a1c94a1e8507a9667283ddc2": {
          "model_module": "@jupyter-widgets/controls",
          "model_name": "FloatProgressModel",
          "state": {
            "_view_name": "ProgressView",
            "style": "IPY_MODEL_a28591ab7c9443d0a26661926ed3e69e",
            "_dom_classes": [],
            "description": "",
            "_model_name": "FloatProgressModel",
            "bar_style": "info",
            "max": 1,
            "_view_module": "@jupyter-widgets/controls",
            "_model_module_version": "1.5.0",
            "value": 1,
            "_view_count": null,
            "_view_module_version": "1.5.0",
            "orientation": "horizontal",
            "min": 0,
            "description_tooltip": null,
            "_model_module": "@jupyter-widgets/controls",
            "layout": "IPY_MODEL_ef23419bfdab4441831296bd63b22580"
          }
        },
        "5816d4b6312b4772848c31746ef79e12": {
          "model_module": "@jupyter-widgets/controls",
          "model_name": "HTMLModel",
          "state": {
            "_view_name": "HTMLView",
            "style": "IPY_MODEL_4d16f6e5a41841bbbeb2d36c0bf2b223",
            "_dom_classes": [],
            "description": "",
            "_model_name": "HTMLModel",
            "placeholder": "​",
            "_view_module": "@jupyter-widgets/controls",
            "_model_module_version": "1.5.0",
            "value": " 97320/0 [00:07&lt;00:00, 14385.81 examples/s]",
            "_view_count": null,
            "_view_module_version": "1.5.0",
            "description_tooltip": null,
            "_model_module": "@jupyter-widgets/controls",
            "layout": "IPY_MODEL_f5b270a7cd634a2dbf041ce285d513a3"
          }
        },
        "a28591ab7c9443d0a26661926ed3e69e": {
          "model_module": "@jupyter-widgets/controls",
          "model_name": "ProgressStyleModel",
          "state": {
            "_view_name": "StyleView",
            "_model_name": "ProgressStyleModel",
            "description_width": "initial",
            "_view_module": "@jupyter-widgets/base",
            "_model_module_version": "1.5.0",
            "_view_count": null,
            "_view_module_version": "1.2.0",
            "bar_color": null,
            "_model_module": "@jupyter-widgets/controls"
          }
        },
        "ef23419bfdab4441831296bd63b22580": {
          "model_module": "@jupyter-widgets/base",
          "model_name": "LayoutModel",
          "state": {
            "_view_name": "LayoutView",
            "grid_template_rows": null,
            "right": null,
            "justify_content": null,
            "_view_module": "@jupyter-widgets/base",
            "overflow": null,
            "_model_module_version": "1.2.0",
            "_view_count": null,
            "flex_flow": null,
            "width": null,
            "min_width": null,
            "border": null,
            "align_items": null,
            "bottom": null,
            "_model_module": "@jupyter-widgets/base",
            "top": null,
            "grid_column": null,
            "overflow_y": null,
            "overflow_x": null,
            "grid_auto_flow": null,
            "grid_area": null,
            "grid_template_columns": null,
            "flex": null,
            "_model_name": "LayoutModel",
            "justify_items": null,
            "grid_row": null,
            "max_height": null,
            "align_content": null,
            "visibility": null,
            "align_self": null,
            "height": null,
            "min_height": null,
            "padding": null,
            "grid_auto_rows": null,
            "grid_gap": null,
            "max_width": null,
            "order": null,
            "_view_module_version": "1.2.0",
            "grid_template_areas": null,
            "object_position": null,
            "object_fit": null,
            "grid_auto_columns": null,
            "margin": null,
            "display": null,
            "left": null
          }
        },
        "4d16f6e5a41841bbbeb2d36c0bf2b223": {
          "model_module": "@jupyter-widgets/controls",
          "model_name": "DescriptionStyleModel",
          "state": {
            "_view_name": "StyleView",
            "_model_name": "DescriptionStyleModel",
            "description_width": "",
            "_view_module": "@jupyter-widgets/base",
            "_model_module_version": "1.5.0",
            "_view_count": null,
            "_view_module_version": "1.2.0",
            "_model_module": "@jupyter-widgets/controls"
          }
        },
        "f5b270a7cd634a2dbf041ce285d513a3": {
          "model_module": "@jupyter-widgets/base",
          "model_name": "LayoutModel",
          "state": {
            "_view_name": "LayoutView",
            "grid_template_rows": null,
            "right": null,
            "justify_content": null,
            "_view_module": "@jupyter-widgets/base",
            "overflow": null,
            "_model_module_version": "1.2.0",
            "_view_count": null,
            "flex_flow": null,
            "width": null,
            "min_width": null,
            "border": null,
            "align_items": null,
            "bottom": null,
            "_model_module": "@jupyter-widgets/base",
            "top": null,
            "grid_column": null,
            "overflow_y": null,
            "overflow_x": null,
            "grid_auto_flow": null,
            "grid_area": null,
            "grid_template_columns": null,
            "flex": null,
            "_model_name": "LayoutModel",
            "justify_items": null,
            "grid_row": null,
            "max_height": null,
            "align_content": null,
            "visibility": null,
            "align_self": null,
            "height": null,
            "min_height": null,
            "padding": null,
            "grid_auto_rows": null,
            "grid_gap": null,
            "max_width": null,
            "order": null,
            "_view_module_version": "1.2.0",
            "grid_template_areas": null,
            "object_position": null,
            "object_fit": null,
            "grid_auto_columns": null,
            "margin": null,
            "display": null,
            "left": null
          }
        },
        "9aabed2f11ff410ba0ca7e8003848257": {
          "model_module": "@jupyter-widgets/controls",
          "model_name": "HBoxModel",
          "state": {
            "_view_name": "HBoxView",
            "_dom_classes": [],
            "_model_name": "HBoxModel",
            "_view_module": "@jupyter-widgets/controls",
            "_model_module_version": "1.5.0",
            "_view_count": null,
            "_view_module_version": "1.5.0",
            "box_style": "",
            "layout": "IPY_MODEL_ac6e48b0d34c41a68e689e76fdad82a5",
            "_model_module": "@jupyter-widgets/controls",
            "children": [
              "IPY_MODEL_39710ccf137846738e7b1e8e4360e514",
              "IPY_MODEL_b6509545ffc741d6bbe2246565b9c306"
            ]
          }
        },
        "ac6e48b0d34c41a68e689e76fdad82a5": {
          "model_module": "@jupyter-widgets/base",
          "model_name": "LayoutModel",
          "state": {
            "_view_name": "LayoutView",
            "grid_template_rows": null,
            "right": null,
            "justify_content": null,
            "_view_module": "@jupyter-widgets/base",
            "overflow": null,
            "_model_module_version": "1.2.0",
            "_view_count": null,
            "flex_flow": null,
            "width": null,
            "min_width": null,
            "border": null,
            "align_items": null,
            "bottom": null,
            "_model_module": "@jupyter-widgets/base",
            "top": null,
            "grid_column": null,
            "overflow_y": null,
            "overflow_x": null,
            "grid_auto_flow": null,
            "grid_area": null,
            "grid_template_columns": null,
            "flex": null,
            "_model_name": "LayoutModel",
            "justify_items": null,
            "grid_row": null,
            "max_height": null,
            "align_content": null,
            "visibility": null,
            "align_self": null,
            "height": null,
            "min_height": null,
            "padding": null,
            "grid_auto_rows": null,
            "grid_gap": null,
            "max_width": null,
            "order": null,
            "_view_module_version": "1.2.0",
            "grid_template_areas": null,
            "object_position": null,
            "object_fit": null,
            "grid_auto_columns": null,
            "margin": null,
            "display": null,
            "left": null
          }
        },
        "39710ccf137846738e7b1e8e4360e514": {
          "model_module": "@jupyter-widgets/controls",
          "model_name": "FloatProgressModel",
          "state": {
            "_view_name": "ProgressView",
            "style": "IPY_MODEL_555555353f56493ca67d8df8d587e6d8",
            "_dom_classes": [],
            "description": "",
            "_model_name": "FloatProgressModel",
            "bar_style": "info",
            "max": 1,
            "_view_module": "@jupyter-widgets/controls",
            "_model_module_version": "1.5.0",
            "value": 1,
            "_view_count": null,
            "_view_module_version": "1.5.0",
            "orientation": "horizontal",
            "min": 0,
            "description_tooltip": null,
            "_model_module": "@jupyter-widgets/controls",
            "layout": "IPY_MODEL_e77ad12aaca749e0a702e1d0b781ef5c"
          }
        },
        "b6509545ffc741d6bbe2246565b9c306": {
          "model_module": "@jupyter-widgets/controls",
          "model_name": "HTMLModel",
          "state": {
            "_view_name": "HTMLView",
            "style": "IPY_MODEL_ac99924eac6747bc987e57c5df0cc58c",
            "_dom_classes": [],
            "description": "",
            "_model_name": "HTMLModel",
            "placeholder": "​",
            "_view_module": "@jupyter-widgets/controls",
            "_model_module_version": "1.5.0",
            "value": " 97320/0 [00:07&lt;00:00, 13881.48 examples/s]",
            "_view_count": null,
            "_view_module_version": "1.5.0",
            "description_tooltip": null,
            "_model_module": "@jupyter-widgets/controls",
            "layout": "IPY_MODEL_a172786cb7644b9da069f84a07a9a73d"
          }
        },
        "555555353f56493ca67d8df8d587e6d8": {
          "model_module": "@jupyter-widgets/controls",
          "model_name": "ProgressStyleModel",
          "state": {
            "_view_name": "StyleView",
            "_model_name": "ProgressStyleModel",
            "description_width": "initial",
            "_view_module": "@jupyter-widgets/base",
            "_model_module_version": "1.5.0",
            "_view_count": null,
            "_view_module_version": "1.2.0",
            "bar_color": null,
            "_model_module": "@jupyter-widgets/controls"
          }
        },
        "e77ad12aaca749e0a702e1d0b781ef5c": {
          "model_module": "@jupyter-widgets/base",
          "model_name": "LayoutModel",
          "state": {
            "_view_name": "LayoutView",
            "grid_template_rows": null,
            "right": null,
            "justify_content": null,
            "_view_module": "@jupyter-widgets/base",
            "overflow": null,
            "_model_module_version": "1.2.0",
            "_view_count": null,
            "flex_flow": null,
            "width": null,
            "min_width": null,
            "border": null,
            "align_items": null,
            "bottom": null,
            "_model_module": "@jupyter-widgets/base",
            "top": null,
            "grid_column": null,
            "overflow_y": null,
            "overflow_x": null,
            "grid_auto_flow": null,
            "grid_area": null,
            "grid_template_columns": null,
            "flex": null,
            "_model_name": "LayoutModel",
            "justify_items": null,
            "grid_row": null,
            "max_height": null,
            "align_content": null,
            "visibility": null,
            "align_self": null,
            "height": null,
            "min_height": null,
            "padding": null,
            "grid_auto_rows": null,
            "grid_gap": null,
            "max_width": null,
            "order": null,
            "_view_module_version": "1.2.0",
            "grid_template_areas": null,
            "object_position": null,
            "object_fit": null,
            "grid_auto_columns": null,
            "margin": null,
            "display": null,
            "left": null
          }
        },
        "ac99924eac6747bc987e57c5df0cc58c": {
          "model_module": "@jupyter-widgets/controls",
          "model_name": "DescriptionStyleModel",
          "state": {
            "_view_name": "StyleView",
            "_model_name": "DescriptionStyleModel",
            "description_width": "",
            "_view_module": "@jupyter-widgets/base",
            "_model_module_version": "1.5.0",
            "_view_count": null,
            "_view_module_version": "1.2.0",
            "_model_module": "@jupyter-widgets/controls"
          }
        },
        "a172786cb7644b9da069f84a07a9a73d": {
          "model_module": "@jupyter-widgets/base",
          "model_name": "LayoutModel",
          "state": {
            "_view_name": "LayoutView",
            "grid_template_rows": null,
            "right": null,
            "justify_content": null,
            "_view_module": "@jupyter-widgets/base",
            "overflow": null,
            "_model_module_version": "1.2.0",
            "_view_count": null,
            "flex_flow": null,
            "width": null,
            "min_width": null,
            "border": null,
            "align_items": null,
            "bottom": null,
            "_model_module": "@jupyter-widgets/base",
            "top": null,
            "grid_column": null,
            "overflow_y": null,
            "overflow_x": null,
            "grid_auto_flow": null,
            "grid_area": null,
            "grid_template_columns": null,
            "flex": null,
            "_model_name": "LayoutModel",
            "justify_items": null,
            "grid_row": null,
            "max_height": null,
            "align_content": null,
            "visibility": null,
            "align_self": null,
            "height": null,
            "min_height": null,
            "padding": null,
            "grid_auto_rows": null,
            "grid_gap": null,
            "max_width": null,
            "order": null,
            "_view_module_version": "1.2.0",
            "grid_template_areas": null,
            "object_position": null,
            "object_fit": null,
            "grid_auto_columns": null,
            "margin": null,
            "display": null,
            "left": null
          }
        }
      }
    }
  },
  "cells": [
    {
      "cell_type": "code",
      "metadata": {
        "id": "kwYXaPCb-a4H",
        "outputId": "d9e07636-d361-4353-9b49-d4c6d0d3e4ef",
        "colab": {
          "base_uri": "https://localhost:8080/",
          "height": 663
        }
      },
      "source": [
        "!pip install datasets\n",
        "!pip install lime\n",
        "!pip install jsonlines"
      ],
      "execution_count": null,
      "outputs": [
        {
          "output_type": "stream",
          "text": [
            "Requirement already satisfied: datasets in /usr/local/lib/python3.6/dist-packages (1.1.2)\n",
            "Requirement already satisfied: tqdm<4.50.0,>=4.27 in /usr/local/lib/python3.6/dist-packages (from datasets) (4.41.1)\n",
            "Requirement already satisfied: numpy>=1.17 in /usr/local/lib/python3.6/dist-packages (from datasets) (1.18.5)\n",
            "Requirement already satisfied: xxhash in /usr/local/lib/python3.6/dist-packages (from datasets) (2.0.0)\n",
            "Requirement already satisfied: pandas in /usr/local/lib/python3.6/dist-packages (from datasets) (1.1.2)\n",
            "Requirement already satisfied: pyarrow>=0.17.1 in /usr/local/lib/python3.6/dist-packages (from datasets) (1.0.1)\n",
            "Requirement already satisfied: dataclasses; python_version < \"3.7\" in /usr/local/lib/python3.6/dist-packages (from datasets) (0.7)\n",
            "Requirement already satisfied: filelock in /usr/local/lib/python3.6/dist-packages (from datasets) (3.0.12)\n",
            "Requirement already satisfied: dill in /usr/local/lib/python3.6/dist-packages (from datasets) (0.3.2)\n",
            "Requirement already satisfied: requests>=2.19.0 in /usr/local/lib/python3.6/dist-packages (from datasets) (2.23.0)\n",
            "Requirement already satisfied: multiprocess in /usr/local/lib/python3.6/dist-packages (from datasets) (0.70.10)\n",
            "Requirement already satisfied: python-dateutil>=2.7.3 in /usr/local/lib/python3.6/dist-packages (from pandas->datasets) (2.8.1)\n",
            "Requirement already satisfied: pytz>=2017.2 in /usr/local/lib/python3.6/dist-packages (from pandas->datasets) (2018.9)\n",
            "Requirement already satisfied: urllib3!=1.25.0,!=1.25.1,<1.26,>=1.21.1 in /usr/local/lib/python3.6/dist-packages (from requests>=2.19.0->datasets) (1.24.3)\n",
            "Requirement already satisfied: idna<3,>=2.5 in /usr/local/lib/python3.6/dist-packages (from requests>=2.19.0->datasets) (2.10)\n",
            "Requirement already satisfied: chardet<4,>=3.0.2 in /usr/local/lib/python3.6/dist-packages (from requests>=2.19.0->datasets) (3.0.4)\n",
            "Requirement already satisfied: certifi>=2017.4.17 in /usr/local/lib/python3.6/dist-packages (from requests>=2.19.0->datasets) (2020.6.20)\n",
            "Requirement already satisfied: six>=1.5 in /usr/local/lib/python3.6/dist-packages (from python-dateutil>=2.7.3->pandas->datasets) (1.15.0)\n",
            "Requirement already satisfied: lime in /usr/local/lib/python3.6/dist-packages (0.2.0.1)\n",
            "Requirement already satisfied: scikit-learn>=0.18 in /usr/local/lib/python3.6/dist-packages (from lime) (0.22.2.post1)\n",
            "Requirement already satisfied: numpy in /usr/local/lib/python3.6/dist-packages (from lime) (1.18.5)\n",
            "Requirement already satisfied: scikit-image>=0.12 in /usr/local/lib/python3.6/dist-packages (from lime) (0.16.2)\n",
            "Requirement already satisfied: scipy in /usr/local/lib/python3.6/dist-packages (from lime) (1.4.1)\n",
            "Requirement already satisfied: matplotlib in /usr/local/lib/python3.6/dist-packages (from lime) (3.2.2)\n",
            "Requirement already satisfied: tqdm in /usr/local/lib/python3.6/dist-packages (from lime) (4.41.1)\n",
            "Requirement already satisfied: joblib>=0.11 in /usr/local/lib/python3.6/dist-packages (from scikit-learn>=0.18->lime) (0.16.0)\n",
            "Requirement already satisfied: imageio>=2.3.0 in /usr/local/lib/python3.6/dist-packages (from scikit-image>=0.12->lime) (2.4.1)\n",
            "Requirement already satisfied: PyWavelets>=0.4.0 in /usr/local/lib/python3.6/dist-packages (from scikit-image>=0.12->lime) (1.1.1)\n",
            "Requirement already satisfied: networkx>=2.0 in /usr/local/lib/python3.6/dist-packages (from scikit-image>=0.12->lime) (2.5)\n",
            "Requirement already satisfied: pillow>=4.3.0 in /usr/local/lib/python3.6/dist-packages (from scikit-image>=0.12->lime) (7.0.0)\n",
            "Requirement already satisfied: pyparsing!=2.0.4,!=2.1.2,!=2.1.6,>=2.0.1 in /usr/local/lib/python3.6/dist-packages (from matplotlib->lime) (2.4.7)\n",
            "Requirement already satisfied: kiwisolver>=1.0.1 in /usr/local/lib/python3.6/dist-packages (from matplotlib->lime) (1.2.0)\n",
            "Requirement already satisfied: cycler>=0.10 in /usr/local/lib/python3.6/dist-packages (from matplotlib->lime) (0.10.0)\n",
            "Requirement already satisfied: python-dateutil>=2.1 in /usr/local/lib/python3.6/dist-packages (from matplotlib->lime) (2.8.1)\n",
            "Requirement already satisfied: decorator>=4.3.0 in /usr/local/lib/python3.6/dist-packages (from networkx>=2.0->scikit-image>=0.12->lime) (4.4.2)\n",
            "Requirement already satisfied: six in /usr/local/lib/python3.6/dist-packages (from cycler>=0.10->matplotlib->lime) (1.15.0)\n",
            "Requirement already satisfied: jsonlines in /usr/local/lib/python3.6/dist-packages (1.2.0)\n",
            "Requirement already satisfied: six in /usr/local/lib/python3.6/dist-packages (from jsonlines) (1.15.0)\n"
          ],
          "name": "stdout"
        }
      ]
    },
    {
      "cell_type": "code",
      "metadata": {
        "id": "yJTPJoZjYr4H"
      },
      "source": [
        "import pandas as pd\n",
        "import numpy as np\n",
        "import re\n",
        "import jsonlines\n",
        "import pickle\n",
        "import torch\n",
        "import torch.nn as nn\n",
        "import torch.nn.functional as F\n",
        "from torchtext import data\n",
        "import lime\n",
        "import json\n",
        "from lime.lime_text import LimeTextExplainer\n",
        "from datasets import load_dataset\n",
        "from sklearn.metrics import f1_score\n",
        "torch.manual_seed(42)\n",
        "np.random.seed(42)\n",
        "torch.backends.cudnn.deterministic = True"
      ],
      "execution_count": null,
      "outputs": []
    },
    {
      "cell_type": "code",
      "metadata": {
        "id": "Dkms27xv4iRM"
      },
      "source": [
        "class RNN_model(nn.Module):\n",
        "  def __init__(self, vocab_size, embedding_dim, dropout_rate, lstm_units, lstm_layers, bidirectional, pad_idx, output_dim):\n",
        "    super(RNN_model, self).__init__()\n",
        "\n",
        "    self.lstm_layers = lstm_layers\n",
        "    self.num_directions = 2 if bidirectional else 1\n",
        "    self.lstm_units = lstm_units\n",
        "\n",
        "    self.embeddings = nn.Embedding(vocab_size, embedding_dim, padding_idx = pad_idx)\n",
        "    # self.embeddings.weight.requires_grad = False\n",
        "    self.dropout = nn.Dropout(dropout_rate)\n",
        "    self.bilstm = nn.LSTM(embedding_dim, lstm_units, lstm_layers, bidirectional = bidirectional, dropout = dropout_rate)\n",
        "    self.linear = nn.Linear(lstm_units * (2 if bidirectional else 1), output_dim)\n",
        "\n",
        "  def forward(self, text, text_lengths):\n",
        "    x = self.embeddings(text)\n",
        "    # x = self.dropout(x)\n",
        "    x = nn.utils.rnn.pack_padded_sequence(x, text_lengths)\n",
        "    out, (h_n, c_n) = self.bilstm(x)\n",
        "    out_unpacked , out_lengths = nn.utils.rnn.pad_packed_sequence(out)\n",
        "\n",
        "    out = self.linear(self.dropout(torch.cat((h_n[-2,:,:], h_n[-1,:,:]), dim=1)))\n",
        "    return(out)"
      ],
      "execution_count": null,
      "outputs": []
    },
    {
      "cell_type": "code",
      "metadata": {
        "id": "gjK3q0s52FQ-",
        "outputId": "dfa7fe1e-3a0e-4fe5-817e-71363a507cd1",
        "colab": {
          "base_uri": "https://localhost:8080/",
          "height": 235,
          "referenced_widgets": [
            "fe0d1c80c314474981a63f5772ca7f43",
            "f52e7fd716a645939286ab6d2710f7ba",
            "85fa235280134c75ba77fff8ccd68064",
            "6dd0b70c46a94016a625662fd0f1b3a6",
            "3d14976e40e5413bb70d44cf67929ace",
            "4e67b95fa282488a83742d12f67008eb",
            "aa3c1c8083984a088a1dfdc10224f239",
            "3afb74d3531a42a8845cf97f63f82a6a",
            "e4ee9ff580cf4ae28f5f09b1e0a05e2b",
            "1fbeffdb1fd24514808b0319c66530c8",
            "cbc9f11e93404ee99f6c4e2e14cb915a",
            "126cf69210d949b991e8a2c9f5633c47",
            "b04c97df57b34883bf94069fa29720ed",
            "d97113fbdad64102887ca3864ea91c08",
            "0fe31f99942944c0b438fb1f44c18043",
            "cd5565ab8a7349ce9dab45373c03b16e",
            "d60ba06cd0454a9b8fdb85a38116191d",
            "f1e1db26baa64d9280488b817c36d5da",
            "5660dd0c0a8b480eb399f7f525eb4bce",
            "3dfe432c16e44f45b727824f3eb8e1c4",
            "ee84328e4b8c4b9dbfb1ce5be10ee8e1",
            "7c2391b179364bf9b8a2804183c65b0c",
            "df19153f877a4e04904b523b10e316ac",
            "8795353e7fb54d3abeab1f353d49befc",
            "d4e7dafcffa945798ec7e1cc1c5e6eba",
            "877b4081a627434fab9bec266ae6bb73",
            "6aa089dfdfd343489cc7471a9e7066fc",
            "19732fb6914241ad942c31fcf6c16a1f",
            "849105f61aaa4c119c7278bca610a7b2",
            "5f20f42970e8481999dce59562a2529b",
            "5d1f771b9e7f41408c3a91e7a68e12cd",
            "dad41f711b0347c39ce9449a77ffc094",
            "3850522d9c944529af6efd60c4b477ab",
            "318a41b97e9c42e5b88de494b10eaa67",
            "0afff4e6a1c94a1e8507a9667283ddc2",
            "5816d4b6312b4772848c31746ef79e12",
            "a28591ab7c9443d0a26661926ed3e69e",
            "ef23419bfdab4441831296bd63b22580",
            "4d16f6e5a41841bbbeb2d36c0bf2b223",
            "f5b270a7cd634a2dbf041ce285d513a3",
            "9aabed2f11ff410ba0ca7e8003848257",
            "ac6e48b0d34c41a68e689e76fdad82a5",
            "39710ccf137846738e7b1e8e4360e514",
            "b6509545ffc741d6bbe2246565b9c306",
            "555555353f56493ca67d8df8d587e6d8",
            "e77ad12aaca749e0a702e1d0b781ef5c",
            "ac99924eac6747bc987e57c5df0cc58c",
            "a172786cb7644b9da069f84a07a9a73d"
          ]
        }
      },
      "source": [
        "dataset = load_dataset(\"civil_comments\", split='train')"
      ],
      "execution_count": null,
      "outputs": [
        {
          "output_type": "display_data",
          "data": {
            "application/vnd.jupyter.widget-view+json": {
              "model_id": "fe0d1c80c314474981a63f5772ca7f43",
              "version_minor": 0,
              "version_major": 2
            },
            "text/plain": [
              "HBox(children=(FloatProgress(value=0.0, description='Downloading', max=2445.0, style=ProgressStyle(description…"
            ]
          },
          "metadata": {
            "tags": []
          }
        },
        {
          "output_type": "stream",
          "text": [
            "\n"
          ],
          "name": "stdout"
        },
        {
          "output_type": "display_data",
          "data": {
            "application/vnd.jupyter.widget-view+json": {
              "model_id": "e4ee9ff580cf4ae28f5f09b1e0a05e2b",
              "version_minor": 0,
              "version_major": 2
            },
            "text/plain": [
              "HBox(children=(FloatProgress(value=0.0, description='Downloading', max=1377.0, style=ProgressStyle(description…"
            ]
          },
          "metadata": {
            "tags": []
          }
        },
        {
          "output_type": "stream",
          "text": [
            "Using custom data configuration default\n"
          ],
          "name": "stderr"
        },
        {
          "output_type": "stream",
          "text": [
            "\n",
            "Downloading and preparing dataset civil_comments/default (download: 395.73 MiB, generated: 630.60 MiB, post-processed: Unknown size, total: 1.00 GiB) to /root/.cache/huggingface/datasets/civil_comments/default/0.9.0/98bdc73fc77a117cf5d17c9977e278c8023c64177a3ed9e0c49f7a5bdf10a47b...\n"
          ],
          "name": "stdout"
        },
        {
          "output_type": "display_data",
          "data": {
            "application/vnd.jupyter.widget-view+json": {
              "model_id": "d60ba06cd0454a9b8fdb85a38116191d",
              "version_minor": 0,
              "version_major": 2
            },
            "text/plain": [
              "HBox(children=(FloatProgress(value=0.0, description='Downloading', max=414947977.0, style=ProgressStyle(descri…"
            ]
          },
          "metadata": {
            "tags": []
          }
        },
        {
          "output_type": "stream",
          "text": [
            "\n"
          ],
          "name": "stdout"
        },
        {
          "output_type": "display_data",
          "data": {
            "application/vnd.jupyter.widget-view+json": {
              "model_id": "d4e7dafcffa945798ec7e1cc1c5e6eba",
              "version_minor": 0,
              "version_major": 2
            },
            "text/plain": [
              "HBox(children=(FloatProgress(value=1.0, bar_style='info', max=1.0), HTML(value='')))"
            ]
          },
          "metadata": {
            "tags": []
          }
        },
        {
          "output_type": "display_data",
          "data": {
            "application/vnd.jupyter.widget-view+json": {
              "model_id": "3850522d9c944529af6efd60c4b477ab",
              "version_minor": 0,
              "version_major": 2
            },
            "text/plain": [
              "HBox(children=(FloatProgress(value=1.0, bar_style='info', max=1.0), HTML(value='')))"
            ]
          },
          "metadata": {
            "tags": []
          }
        },
        {
          "output_type": "display_data",
          "data": {
            "application/vnd.jupyter.widget-view+json": {
              "model_id": "9aabed2f11ff410ba0ca7e8003848257",
              "version_minor": 0,
              "version_major": 2
            },
            "text/plain": [
              "HBox(children=(FloatProgress(value=1.0, bar_style='info', max=1.0), HTML(value='')))"
            ]
          },
          "metadata": {
            "tags": []
          }
        },
        {
          "output_type": "stream",
          "text": [
            "Dataset civil_comments downloaded and prepared to /root/.cache/huggingface/datasets/civil_comments/default/0.9.0/98bdc73fc77a117cf5d17c9977e278c8023c64177a3ed9e0c49f7a5bdf10a47b. Subsequent calls will reuse this data.\n"
          ],
          "name": "stdout"
        }
      ]
    },
    {
      "cell_type": "code",
      "metadata": {
        "id": "J7WV9O2pGioT",
        "outputId": "d65f6c30-266f-4f33-b673-d42e5f14a5f3",
        "colab": {
          "base_uri": "https://localhost:8080/",
          "height": 153
        }
      },
      "source": [
        "dataset[0]"
      ],
      "execution_count": null,
      "outputs": [
        {
          "output_type": "execute_result",
          "data": {
            "text/plain": [
              "{'identity_attack': 0.0,\n",
              " 'insult': 0.0,\n",
              " 'obscene': 0.0,\n",
              " 'severe_toxicity': 0.0,\n",
              " 'sexual_explicit': 0.0,\n",
              " 'text': \"This is so cool. It's like, 'would you want your mother to read this??' Really great idea, well done!\",\n",
              " 'threat': 0.0,\n",
              " 'toxicity': 0.0}"
            ]
          },
          "metadata": {
            "tags": []
          },
          "execution_count": 107
        }
      ]
    },
    {
      "cell_type": "code",
      "metadata": {
        "id": "njrdt6Ss_ADX"
      },
      "source": [
        "non_toxic_comments = []\n",
        "\n",
        "toxic_comments = []\n",
        "\n",
        "for comment in dataset:\n",
        "  if(comment['toxicity'] == 0 and comment['severe_toxicity'] == 0):\n",
        "    non_toxic_comments.append(comment['text'])\n",
        "  elif(comment['toxicity']>0.5 or comment['severe_toxicity']>0.5):\n",
        "    toxic_comments.append(comment['text'])"
      ],
      "execution_count": null,
      "outputs": []
    },
    {
      "cell_type": "code",
      "metadata": {
        "id": "Bt1JIDSYIPtg",
        "outputId": "f0c8648a-845f-4e6f-e6f0-aaf36df206b8",
        "colab": {
          "base_uri": "https://localhost:8080/",
          "height": 50
        }
      },
      "source": [
        "print(len(non_toxic_comments))\n",
        "print(len(toxic_comments))"
      ],
      "execution_count": null,
      "outputs": [
        {
          "output_type": "stream",
          "text": [
            "1248717\n",
            "106438\n"
          ],
          "name": "stdout"
        }
      ]
    },
    {
      "cell_type": "code",
      "metadata": {
        "id": "1GE6f24LF_eB"
      },
      "source": [
        "toxic_data_train = pd.read_csv('/content/drive/My Drive/ToxicSpan_CS669V/train_split.csv')\n",
        "toxic_data_val = pd.read_csv('/content/drive/My Drive/ToxicSpan_CS669V/val_split.csv')\n",
        "toxic_data_test = pd.read_csv('/content/drive/My Drive/ToxicSpan_CS669V/test_split.csv')\n",
        "\n",
        "toxic_train = toxic_data_train['text'].to_list()\n",
        "toxic_val = toxic_data_val['text'].to_list()\n",
        "toxic_test = toxic_data_test['text'].to_list()\n",
        "\n",
        "for i in toxic_comments:\n",
        "  if((i in toxic_test) or (i in toxic_val) or (i in toxic_train)):\n",
        "    toxic_comments.remove(i)\n",
        "\n",
        "np.random.shuffle(toxic_comments)\n",
        "toxic_train, toxic_val = toxic_comments[:int(0.8*len(toxic_comments))], toxic_comments[int(0.8*len(toxic_comments)):]\n",
        "np.random.shuffle(non_toxic_comments)\n",
        "non_toxic_train, non_toxic_val = non_toxic_comments[:len(toxic_train)], non_toxic_comments[len(toxic_train):len(toxic_train)+len(toxic_val)] "
      ],
      "execution_count": null,
      "outputs": []
    },
    {
      "cell_type": "code",
      "metadata": {
        "id": "gqcxkplfHGT7",
        "outputId": "8cb20fb5-0df9-483a-883a-d2cb12d8e548",
        "colab": {
          "base_uri": "https://localhost:8080/",
          "height": 85
        }
      },
      "source": [
        "print(len(toxic_train))\n",
        "print(len(toxic_val))\n",
        "print(len(non_toxic_train))\n",
        "print(len(non_toxic_val))"
      ],
      "execution_count": null,
      "outputs": [
        {
          "output_type": "stream",
          "text": [
            "78948\n",
            "19737\n",
            "78948\n",
            "19737\n"
          ],
          "name": "stdout"
        }
      ]
    },
    {
      "cell_type": "code",
      "metadata": {
        "id": "6Sjjkdp1JrZR"
      },
      "source": [
        "Y_train = np.ones(len(toxic_train)).tolist() + np.zeros(len(non_toxic_train)).tolist()\n",
        "Y_val = np.ones(len(toxic_val)).tolist() + np.zeros(len(non_toxic_val)).tolist()"
      ],
      "execution_count": null,
      "outputs": []
    },
    {
      "cell_type": "code",
      "metadata": {
        "id": "MHGlBKX4HbPq"
      },
      "source": [
        "X_train = toxic_train + non_toxic_train\n",
        "X_val = toxic_val + non_toxic_val"
      ],
      "execution_count": null,
      "outputs": []
    },
    {
      "cell_type": "code",
      "metadata": {
        "id": "PyfZpK2sKO7B"
      },
      "source": [
        "def deEmojify(text):\n",
        "    regrex_pattern = re.compile(pattern = \"[\"\n",
        "        u\"\\U0001F600-\\U0001F64F\"  # emoticons\n",
        "        u\"\\U0001F300-\\U0001F5FF\"  # symbols & pictographs\n",
        "        u\"\\U0001F680-\\U0001F6FF\"  # transport & map symbols\n",
        "        u\"\\U0001F1E0-\\U0001F1FF\"  # flags (iOS)\n",
        "                           \"]+\", flags = re.UNICODE)\n",
        "    return regrex_pattern.sub(r'[emoji]',text)\n",
        "\n",
        "from string import punctuation\n",
        "def strip_punctuation(text):\n",
        "    return ''.join(c for c in text if c not in punctuation)\n",
        "\n",
        "import unicodedata\n",
        "def convert_accented_chars(text):\n",
        "    text = unicodedata.normalize('NFKD', text).encode('ascii', 'ignore').decode('utf-8', 'ignore')\n",
        "    return text\n",
        "\n",
        "def minimize_space(text):\n",
        "  return(re.sub(' +', ' ', text))\n",
        "\n",
        "def preprocess(text):\n",
        "  for i in range(len(text)):\n",
        "    text[i] = convert_accented_chars(text[i])\n",
        "    text[i] = deEmojify(text[i])\n",
        "    text[i] = strip_punctuation(text[i])\n",
        "    return(text)\n",
        "\n",
        "for i in range(len(X_train)):\n",
        "  X_train[i] = convert_accented_chars(X_train[i])\n",
        "  X_train[i] = strip_punctuation(X_train[i])\n",
        "  X_train[i] = deEmojify(X_train[i])\n",
        "  X_train[i] = minimize_space(X_train[i])\n",
        "  X_train[i] = X_train[i].lower().split(' ')\n",
        "\n",
        "for i in range(len(X_val)):\n",
        "  X_val[i] = convert_accented_chars(X_val[i])\n",
        "  X_val[i] = strip_punctuation(X_val[i])\n",
        "  X_val[i] = deEmojify(X_val[i])\n",
        "  X_val[i] = minimize_space(X_val[i])\n",
        "  X_val[i] = X_val[i].lower().split(' ')"
      ],
      "execution_count": null,
      "outputs": []
    },
    {
      "cell_type": "code",
      "metadata": {
        "id": "eVWsAsN3RALD",
        "outputId": "668d8899-8b98-478c-82c3-6dc6dee98271",
        "colab": {
          "base_uri": "https://localhost:8080/",
          "height": 34
        }
      },
      "source": [
        "print(X_train[0])"
      ],
      "execution_count": null,
      "outputs": [
        {
          "output_type": "stream",
          "text": [
            "['tabby', 'is', 'a', 'vacuous', 'twit', 'much', 'like', 'many', 'of', 'the', 'other', 'intolerant', 'feminists', 'nursing', 'leah', 'the', 'globe', 'publishes']\n"
          ],
          "name": "stdout"
        }
      ]
    },
    {
      "cell_type": "code",
      "metadata": {
        "id": "DOZRoitXkzHb"
      },
      "source": [
        "train_data = []\n",
        "for i in range(len(Y_train)):\n",
        "  train_data.append({\"text\" : X_train[i], \"label\" : [Y_train[i]]})\n",
        "\n",
        "with jsonlines.open('/content/drive/My Drive/ToxicSpan_CS669V/LIME_Baseline/train_new.json', mode='w') as f:\n",
        "  f.write_all(train_data)\n",
        "\n",
        "val_data = []\n",
        "for i in range(len(Y_val)):\n",
        "  val_data.append({\"text\" : X_val[i], \"label\" : [Y_val[i]]})\n",
        "\n",
        "with jsonlines.open('/content/drive/My Drive/ToxicSpan_CS669V/LIME_Baseline/val_new.json', mode='w') as f:\n",
        "  f.write_all(val_data)"
      ],
      "execution_count": null,
      "outputs": []
    },
    {
      "cell_type": "code",
      "metadata": {
        "id": "cjSI_i7-Fj1V"
      },
      "source": [
        "TEXT = data.Field(include_lengths=True)\n",
        "LABEL = data.Field(unk_token=None, pad_token=None)"
      ],
      "execution_count": null,
      "outputs": []
    },
    {
      "cell_type": "code",
      "metadata": {
        "id": "ieCS-lVrF5eD"
      },
      "source": [
        "fields = {'text' : ('text', TEXT), 'label' : ('label', LABEL)}"
      ],
      "execution_count": null,
      "outputs": []
    },
    {
      "cell_type": "code",
      "metadata": {
        "id": "MNPCxJT7GbCV"
      },
      "source": [
        "train_data, val_data = data.TabularDataset.splits(\n",
        "                              path = '/content/drive/My Drive/ToxicSpan_CS669V/LIME_Baseline',\n",
        "                              train = 'train.json',\n",
        "                              validation = 'val.json',\n",
        "                              format = 'json',\n",
        "                              fields = fields,\n",
        "                              skip_header = True\n",
        ")"
      ],
      "execution_count": null,
      "outputs": []
    },
    {
      "cell_type": "code",
      "metadata": {
        "id": "fg4UFK9HGxAQ"
      },
      "source": [
        "MAX_VOCAB_SIZE = 50000\n",
        "TEXT.build_vocab(train_data, max_size = MAX_VOCAB_SIZE, vectors='glove.6B.100d', unk_init=torch.Tensor.normal_)\n",
        "LABEL.build_vocab(train_data)"
      ],
      "execution_count": null,
      "outputs": []
    },
    {
      "cell_type": "code",
      "metadata": {
        "id": "CYTrl_s3RRIX",
        "outputId": "ebce6aa0-aa13-4406-d884-5b84b8880fd5",
        "colab": {
          "base_uri": "https://localhost:8080/",
          "height": 51
        }
      },
      "source": [
        "print(len(TEXT.vocab))\n",
        "print(LABEL.vocab.stoi)"
      ],
      "execution_count": null,
      "outputs": [
        {
          "output_type": "stream",
          "text": [
            "50002\n",
            "defaultdict(<function _default_unk_index at 0x7f691bceb400>, {0.0: 0, 1.0: 1})\n"
          ],
          "name": "stdout"
        }
      ]
    },
    {
      "cell_type": "code",
      "metadata": {
        "id": "v0VcVKbZTZoZ"
      },
      "source": [
        "BATCH_SIZE = 500\n",
        "\n",
        "device = torch.device('cuda' if torch.cuda.is_available() else 'cpu')\n",
        "\n",
        "train_iterator, val_iterator = data.BucketIterator.splits(\n",
        "    (train_data, val_data),\n",
        "    batch_size = BATCH_SIZE,\n",
        "    sort_within_batch = True,\n",
        "    sort_key = lambda x: len(x.text),\n",
        "    device = device\n",
        ")"
      ],
      "execution_count": null,
      "outputs": []
    },
    {
      "cell_type": "code",
      "metadata": {
        "id": "axFypYjiTzjE"
      },
      "source": [
        "INPUT_DIM = len(TEXT.vocab)\n",
        "EMBEDDING_DIM = 100\n",
        "HIDDEN_DIM = 256\n",
        "OUTPUT_DIM = 1\n",
        "LSTM_LAYERS = 2\n",
        "BIDIRECTIONAL = True\n",
        "DROPOUT_RATE = 0.5\n",
        "PAD_IDX = TEXT.vocab.stoi[TEXT.pad_token]\n",
        "\n",
        "model = RNN_model(INPUT_DIM, EMBEDDING_DIM, DROPOUT_RATE, HIDDEN_DIM, LSTM_LAYERS, BIDIRECTIONAL, PAD_IDX, OUTPUT_DIM)"
      ],
      "execution_count": null,
      "outputs": []
    },
    {
      "cell_type": "code",
      "metadata": {
        "id": "SFwBqSv3ezbZ",
        "outputId": "ad9d545f-fba7-40e3-f9c6-32e05b3424dd",
        "colab": {
          "base_uri": "https://localhost:8080/",
          "height": 118
        }
      },
      "source": [
        "print(model)"
      ],
      "execution_count": null,
      "outputs": [
        {
          "output_type": "stream",
          "text": [
            "RNN_model(\n",
            "  (embeddings): Embedding(50002, 100, padding_idx=1)\n",
            "  (dropout): Dropout(p=0.5, inplace=False)\n",
            "  (bilstm): LSTM(100, 256, num_layers=2, dropout=0.5, bidirectional=True)\n",
            "  (linear): Linear(in_features=512, out_features=1, bias=True)\n",
            ")\n"
          ],
          "name": "stdout"
        }
      ]
    },
    {
      "cell_type": "code",
      "metadata": {
        "id": "VnYLVLYLA5zW",
        "outputId": "10866560-0cba-481a-95c6-d04e799d3060",
        "colab": {
          "base_uri": "https://localhost:8080/",
          "height": 34
        }
      },
      "source": [
        "def count_parameters(model):\n",
        "  return sum(p.numel() for p in model.parameters() if p.requires_grad)\n",
        "\n",
        "print(count_parameters(model))"
      ],
      "execution_count": null,
      "outputs": [
        {
          "output_type": "stream",
          "text": [
            "7310857\n"
          ],
          "name": "stdout"
        }
      ]
    },
    {
      "cell_type": "code",
      "metadata": {
        "id": "oG79b-F8BRAg",
        "outputId": "fe4396c2-e603-46d0-c8cd-d0749c7cf52b",
        "colab": {
          "base_uri": "https://localhost:8080/",
          "height": 34
        }
      },
      "source": [
        "pretrained_embeddings = TEXT.vocab.vectors\n",
        "\n",
        "print(pretrained_embeddings.shape)"
      ],
      "execution_count": null,
      "outputs": [
        {
          "output_type": "stream",
          "text": [
            "torch.Size([50002, 100])\n"
          ],
          "name": "stdout"
        }
      ]
    },
    {
      "cell_type": "code",
      "metadata": {
        "id": "nx0OzULlBYxG",
        "outputId": "28adcead-7e9d-4a87-fc64-4d19c9f1dcb2",
        "colab": {
          "base_uri": "https://localhost:8080/",
          "height": 238
        }
      },
      "source": [
        "model.embeddings.weight.data.copy_(pretrained_embeddings)"
      ],
      "execution_count": null,
      "outputs": [
        {
          "output_type": "execute_result",
          "data": {
            "text/plain": [
              "tensor([[-1.4220e+00,  9.9518e-01, -2.1328e-01,  ...,  6.9932e-01,\n",
              "          1.8198e-01, -9.1527e-01],\n",
              "        [ 1.0569e+00, -1.8136e+00,  1.0866e+00,  ..., -1.0926e+00,\n",
              "          1.6550e-03,  1.4007e+00],\n",
              "        [-3.8194e-02, -2.4487e-01,  7.2812e-01,  ..., -1.4590e-01,\n",
              "          8.2780e-01,  2.7062e-01],\n",
              "        ...,\n",
              "        [ 4.6875e-01, -2.7269e-01,  2.5069e-01,  ..., -1.1505e+00,\n",
              "          3.4400e-02, -7.2481e-01],\n",
              "        [-8.6831e-02,  3.0148e-02, -1.6625e-01,  ...,  7.4492e-02,\n",
              "         -4.7161e-02, -3.0928e-01],\n",
              "        [ 4.1129e-01, -4.0361e-01, -5.6629e-02,  ...,  4.4429e-01,\n",
              "         -2.9886e-01,  4.1527e-02]])"
            ]
          },
          "metadata": {
            "tags": []
          },
          "execution_count": 55
        }
      ]
    },
    {
      "cell_type": "code",
      "metadata": {
        "id": "TXBK_elUBwg2"
      },
      "source": [
        "UNK_IDX = TEXT.vocab.stoi[TEXT.unk_token]\n",
        "\n",
        "model.embeddings.weight.data[UNK_IDX] = torch.zeros(EMBEDDING_DIM)\n",
        "model.embeddings.weight.data[PAD_IDX] = torch.zeros(EMBEDDING_DIM)"
      ],
      "execution_count": null,
      "outputs": []
    },
    {
      "cell_type": "code",
      "metadata": {
        "id": "miVDrh49eSIm"
      },
      "source": [
        "import torch.optim as optim\n",
        "\n",
        "optimizer = optim.Adam(model.parameters())\n",
        "criterion = nn.BCEWithLogitsLoss()\n",
        "\n",
        "model.cuda()\n",
        "criterion = criterion.to(device)"
      ],
      "execution_count": null,
      "outputs": []
    },
    {
      "cell_type": "code",
      "metadata": {
        "id": "HShcUU_oe5M5"
      },
      "source": [
        "def bin_acc(preds, y):\n",
        "  rounded_preds = torch.round(torch.sigmoid(preds))\n",
        "  return (rounded_preds == y).sum()"
      ],
      "execution_count": null,
      "outputs": []
    },
    {
      "cell_type": "code",
      "metadata": {
        "id": "0KPRx1crfc6w"
      },
      "source": [
        "def train(model, iterator, optimizer, criterion):\n",
        "  epoch_loss = 0\n",
        "  epoch_acc = 0\n",
        "\n",
        "  model.train()\n",
        "  count = 0\n",
        "  num = 0\n",
        "  for batch in iterator:\n",
        "    optimizer.zero_grad()\n",
        "    count+=1\n",
        "    text, text_lengths = batch.text\n",
        "    # print(text[0])\n",
        "    predictions = torch.transpose(model(text, text_lengths),0,1)\n",
        "\n",
        "    loss = criterion(predictions, batch.label.type(torch.FloatTensor).cuda())\n",
        "    acc = bin_acc(predictions, batch.label.type(torch.FloatTensor).cuda())\n",
        "\n",
        "    loss.backward()\n",
        "    optimizer.step()\n",
        "\n",
        "    epoch_loss += float(loss.item())\n",
        "    epoch_acc += acc.item()\n",
        "    num += text.shape[1]\n",
        "  return(epoch_loss/count, epoch_acc/num)"
      ],
      "execution_count": null,
      "outputs": []
    },
    {
      "cell_type": "code",
      "metadata": {
        "id": "FTBM4QYdgYI4"
      },
      "source": [
        "def evaluate(model, iterator, criterion):\n",
        "    \n",
        "    epoch_loss = 0\n",
        "    epoch_acc = 0\n",
        "    num = 0    \n",
        "    model.eval()\n",
        "    \n",
        "    with torch.no_grad():\n",
        "    \n",
        "        for batch in iterator:\n",
        "            text, text_lengths = batch.text\n",
        "            predictions = torch.transpose(model(text, text_lengths),0,1)\n",
        "\n",
        "            loss = criterion(predictions, batch.label.type(torch.FloatTensor).cuda())\n",
        "            acc = bin_acc(predictions, batch.label.type(torch.FloatTensor).cuda())\n",
        "\n",
        "            epoch_loss += float(loss.item())\n",
        "            epoch_acc += acc.item()\n",
        "            num += text.shape[1]\n",
        "    return epoch_loss / len(iterator), epoch_acc / num"
      ],
      "execution_count": null,
      "outputs": []
    },
    {
      "cell_type": "code",
      "metadata": {
        "id": "0gyihl_RghsV",
        "outputId": "0c48033c-edf6-4e3f-e7dc-69293d78e44a",
        "colab": {
          "base_uri": "https://localhost:8080/",
          "height": 935
        }
      },
      "source": [
        "EPOCHS = 20\n",
        "val_loss_min = 100000\n",
        "\n",
        "for epoch in range(EPOCHS):\n",
        "\n",
        "  train_loss, train_acc = train(model, train_iterator, optimizer, criterion)\n",
        "  val_loss, val_acc = evaluate(model, val_iterator, criterion)\n",
        "\n",
        "  print(f\"Epoch: {epoch+1} \\n Train Loss:{train_loss} | Train Acc:{train_acc} \\n Val Loss:{val_loss} | Val Acc:{val_acc}\")\n",
        "  \n",
        "  if(val_loss < val_loss_min):\n",
        "    torch.save(model, '/content/drive/My Drive/model9.pt')\n",
        "    val_loss_min = val_loss\n",
        "    print(\"Model Checkpoint Saved\")"
      ],
      "execution_count": null,
      "outputs": [
        {
          "output_type": "stream",
          "text": [
            "Epoch: 1 \n",
            " Train Loss:0.42024407351884663 | Train Acc:0.8089743183761361 \n",
            " Val Loss:0.3002803448257567 | Val Acc:0.8712537683986522\n",
            "Model Checkpoint Saved\n",
            "Epoch: 2 \n",
            " Train Loss:0.24127172947495798 | Train Acc:0.904455492574179 \n",
            " Val Loss:0.21355608426317385 | Val Acc:0.9183492513870241\n",
            "Model Checkpoint Saved\n",
            "Epoch: 3 \n",
            " Train Loss:0.18367187650520592 | Train Acc:0.9310871148548086 \n",
            " Val Loss:0.19782874384258367 | Val Acc:0.924657360727586\n",
            "Model Checkpoint Saved\n",
            "Epoch: 4 \n",
            " Train Loss:0.15725760730101337 | Train Acc:0.9419867633553944 \n",
            " Val Loss:0.2005571162776102 | Val Acc:0.9242520203683531\n",
            "Epoch: 5 \n",
            " Train Loss:0.13926357761779917 | Train Acc:0.9487887520187467 \n",
            " Val Loss:0.20865662188469608 | Val Acc:0.9220226483925721\n",
            "Epoch: 6 \n",
            " Train Loss:0.11891520183674897 | Train Acc:0.9574590709015485 \n",
            " Val Loss:0.20752696645788 | Val Acc:0.9245813594102298\n",
            "Epoch: 7 \n",
            " Train Loss:0.10261420134596433 | Train Acc:0.9637163938060104 \n",
            " Val Loss:0.22642314151118073 | Val Acc:0.9209332961771337\n",
            "Epoch: 8 \n",
            " Train Loss:0.084925582903567 | Train Acc:0.970505715823807 \n",
            " Val Loss:0.24891161786604532 | Val Acc:0.9180452461175994\n",
            "Epoch: 9 \n",
            " Train Loss:0.07026517175468086 | Train Acc:0.9757623737293771 \n",
            " Val Loss:0.2933697413794602 | Val Acc:0.9176145719859145\n",
            "Epoch: 10 \n",
            " Train Loss:0.05584427777418419 | Train Acc:0.9813926976788372 \n",
            " Val Loss:0.3260596207802809 | Val Acc:0.9140425100701746\n"
          ],
          "name": "stdout"
        },
        {
          "output_type": "error",
          "ename": "KeyboardInterrupt",
          "evalue": "ignored",
          "traceback": [
            "\u001b[0;31m---------------------------------------------------------------------------\u001b[0m",
            "\u001b[0;31mKeyboardInterrupt\u001b[0m                         Traceback (most recent call last)",
            "\u001b[0;32m<ipython-input-58-33f36be0bf7f>\u001b[0m in \u001b[0;36m<module>\u001b[0;34m()\u001b[0m\n\u001b[1;32m      4\u001b[0m \u001b[0;32mfor\u001b[0m \u001b[0mepoch\u001b[0m \u001b[0;32min\u001b[0m \u001b[0mrange\u001b[0m\u001b[0;34m(\u001b[0m\u001b[0mEPOCHS\u001b[0m\u001b[0;34m)\u001b[0m\u001b[0;34m:\u001b[0m\u001b[0;34m\u001b[0m\u001b[0;34m\u001b[0m\u001b[0m\n\u001b[1;32m      5\u001b[0m \u001b[0;34m\u001b[0m\u001b[0m\n\u001b[0;32m----> 6\u001b[0;31m   \u001b[0mtrain_loss\u001b[0m\u001b[0;34m,\u001b[0m \u001b[0mtrain_acc\u001b[0m \u001b[0;34m=\u001b[0m \u001b[0mtrain\u001b[0m\u001b[0;34m(\u001b[0m\u001b[0mmodel\u001b[0m\u001b[0;34m,\u001b[0m \u001b[0mtrain_iterator\u001b[0m\u001b[0;34m,\u001b[0m \u001b[0moptimizer\u001b[0m\u001b[0;34m,\u001b[0m \u001b[0mcriterion\u001b[0m\u001b[0;34m)\u001b[0m\u001b[0;34m\u001b[0m\u001b[0;34m\u001b[0m\u001b[0m\n\u001b[0m\u001b[1;32m      7\u001b[0m   \u001b[0mval_loss\u001b[0m\u001b[0;34m,\u001b[0m \u001b[0mval_acc\u001b[0m \u001b[0;34m=\u001b[0m \u001b[0mevaluate\u001b[0m\u001b[0;34m(\u001b[0m\u001b[0mmodel\u001b[0m\u001b[0;34m,\u001b[0m \u001b[0mval_iterator\u001b[0m\u001b[0;34m,\u001b[0m \u001b[0mcriterion\u001b[0m\u001b[0;34m)\u001b[0m\u001b[0;34m\u001b[0m\u001b[0;34m\u001b[0m\u001b[0m\n\u001b[1;32m      8\u001b[0m \u001b[0;34m\u001b[0m\u001b[0m\n",
            "\u001b[0;32m<ipython-input-16-acf00b6736a1>\u001b[0m in \u001b[0;36mtrain\u001b[0;34m(model, iterator, optimizer, criterion)\u001b[0m\n\u001b[1;32m      6\u001b[0m   \u001b[0mcount\u001b[0m \u001b[0;34m=\u001b[0m \u001b[0;36m0\u001b[0m\u001b[0;34m\u001b[0m\u001b[0;34m\u001b[0m\u001b[0m\n\u001b[1;32m      7\u001b[0m   \u001b[0mnum\u001b[0m \u001b[0;34m=\u001b[0m \u001b[0;36m0\u001b[0m\u001b[0;34m\u001b[0m\u001b[0;34m\u001b[0m\u001b[0m\n\u001b[0;32m----> 8\u001b[0;31m   \u001b[0;32mfor\u001b[0m \u001b[0mbatch\u001b[0m \u001b[0;32min\u001b[0m \u001b[0miterator\u001b[0m\u001b[0;34m:\u001b[0m\u001b[0;34m\u001b[0m\u001b[0;34m\u001b[0m\u001b[0m\n\u001b[0m\u001b[1;32m      9\u001b[0m     \u001b[0moptimizer\u001b[0m\u001b[0;34m.\u001b[0m\u001b[0mzero_grad\u001b[0m\u001b[0;34m(\u001b[0m\u001b[0;34m)\u001b[0m\u001b[0;34m\u001b[0m\u001b[0;34m\u001b[0m\u001b[0m\n\u001b[1;32m     10\u001b[0m     \u001b[0mcount\u001b[0m\u001b[0;34m+=\u001b[0m\u001b[0;36m1\u001b[0m\u001b[0;34m\u001b[0m\u001b[0;34m\u001b[0m\u001b[0m\n",
            "\u001b[0;32m/usr/local/lib/python3.6/dist-packages/torchtext/data/iterator.py\u001b[0m in \u001b[0;36m__iter__\u001b[0;34m(self)\u001b[0m\n\u001b[1;32m    155\u001b[0m                     \u001b[0;32melse\u001b[0m\u001b[0;34m:\u001b[0m\u001b[0;34m\u001b[0m\u001b[0;34m\u001b[0m\u001b[0m\n\u001b[1;32m    156\u001b[0m                         \u001b[0mminibatch\u001b[0m\u001b[0;34m.\u001b[0m\u001b[0msort\u001b[0m\u001b[0;34m(\u001b[0m\u001b[0mkey\u001b[0m\u001b[0;34m=\u001b[0m\u001b[0mself\u001b[0m\u001b[0;34m.\u001b[0m\u001b[0msort_key\u001b[0m\u001b[0;34m,\u001b[0m \u001b[0mreverse\u001b[0m\u001b[0;34m=\u001b[0m\u001b[0;32mTrue\u001b[0m\u001b[0;34m)\u001b[0m\u001b[0;34m\u001b[0m\u001b[0;34m\u001b[0m\u001b[0m\n\u001b[0;32m--> 157\u001b[0;31m                 \u001b[0;32myield\u001b[0m \u001b[0mBatch\u001b[0m\u001b[0;34m(\u001b[0m\u001b[0mminibatch\u001b[0m\u001b[0;34m,\u001b[0m \u001b[0mself\u001b[0m\u001b[0;34m.\u001b[0m\u001b[0mdataset\u001b[0m\u001b[0;34m,\u001b[0m \u001b[0mself\u001b[0m\u001b[0;34m.\u001b[0m\u001b[0mdevice\u001b[0m\u001b[0;34m)\u001b[0m\u001b[0;34m\u001b[0m\u001b[0;34m\u001b[0m\u001b[0m\n\u001b[0m\u001b[1;32m    158\u001b[0m             \u001b[0;32mif\u001b[0m \u001b[0;32mnot\u001b[0m \u001b[0mself\u001b[0m\u001b[0;34m.\u001b[0m\u001b[0mrepeat\u001b[0m\u001b[0;34m:\u001b[0m\u001b[0;34m\u001b[0m\u001b[0;34m\u001b[0m\u001b[0m\n\u001b[1;32m    159\u001b[0m                 \u001b[0;32mreturn\u001b[0m\u001b[0;34m\u001b[0m\u001b[0;34m\u001b[0m\u001b[0m\n",
            "\u001b[0;32m/usr/local/lib/python3.6/dist-packages/torchtext/data/batch.py\u001b[0m in \u001b[0;36m__init__\u001b[0;34m(self, data, dataset, device)\u001b[0m\n\u001b[1;32m     32\u001b[0m                 \u001b[0;32mif\u001b[0m \u001b[0mfield\u001b[0m \u001b[0;32mis\u001b[0m \u001b[0;32mnot\u001b[0m \u001b[0;32mNone\u001b[0m\u001b[0;34m:\u001b[0m\u001b[0;34m\u001b[0m\u001b[0;34m\u001b[0m\u001b[0m\n\u001b[1;32m     33\u001b[0m                     \u001b[0mbatch\u001b[0m \u001b[0;34m=\u001b[0m \u001b[0;34m[\u001b[0m\u001b[0mgetattr\u001b[0m\u001b[0;34m(\u001b[0m\u001b[0mx\u001b[0m\u001b[0;34m,\u001b[0m \u001b[0mname\u001b[0m\u001b[0;34m)\u001b[0m \u001b[0;32mfor\u001b[0m \u001b[0mx\u001b[0m \u001b[0;32min\u001b[0m \u001b[0mdata\u001b[0m\u001b[0;34m]\u001b[0m\u001b[0;34m\u001b[0m\u001b[0;34m\u001b[0m\u001b[0m\n\u001b[0;32m---> 34\u001b[0;31m                     \u001b[0msetattr\u001b[0m\u001b[0;34m(\u001b[0m\u001b[0mself\u001b[0m\u001b[0;34m,\u001b[0m \u001b[0mname\u001b[0m\u001b[0;34m,\u001b[0m \u001b[0mfield\u001b[0m\u001b[0;34m.\u001b[0m\u001b[0mprocess\u001b[0m\u001b[0;34m(\u001b[0m\u001b[0mbatch\u001b[0m\u001b[0;34m,\u001b[0m \u001b[0mdevice\u001b[0m\u001b[0;34m=\u001b[0m\u001b[0mdevice\u001b[0m\u001b[0;34m)\u001b[0m\u001b[0;34m)\u001b[0m\u001b[0;34m\u001b[0m\u001b[0;34m\u001b[0m\u001b[0m\n\u001b[0m\u001b[1;32m     35\u001b[0m \u001b[0;34m\u001b[0m\u001b[0m\n\u001b[1;32m     36\u001b[0m     \u001b[0;34m@\u001b[0m\u001b[0mclassmethod\u001b[0m\u001b[0;34m\u001b[0m\u001b[0;34m\u001b[0m\u001b[0m\n",
            "\u001b[0;32m/usr/local/lib/python3.6/dist-packages/torchtext/data/field.py\u001b[0m in \u001b[0;36mprocess\u001b[0;34m(self, batch, device)\u001b[0m\n\u001b[1;32m    198\u001b[0m             \u001b[0;32mand\u001b[0m \u001b[0mcustom\u001b[0m \u001b[0mpostprocessing\u001b[0m \u001b[0mPipeline\u001b[0m\u001b[0;34m.\u001b[0m\u001b[0;34m\u001b[0m\u001b[0;34m\u001b[0m\u001b[0m\n\u001b[1;32m    199\u001b[0m         \"\"\"\n\u001b[0;32m--> 200\u001b[0;31m         \u001b[0mpadded\u001b[0m \u001b[0;34m=\u001b[0m \u001b[0mself\u001b[0m\u001b[0;34m.\u001b[0m\u001b[0mpad\u001b[0m\u001b[0;34m(\u001b[0m\u001b[0mbatch\u001b[0m\u001b[0;34m)\u001b[0m\u001b[0;34m\u001b[0m\u001b[0;34m\u001b[0m\u001b[0m\n\u001b[0m\u001b[1;32m    201\u001b[0m         \u001b[0mtensor\u001b[0m \u001b[0;34m=\u001b[0m \u001b[0mself\u001b[0m\u001b[0;34m.\u001b[0m\u001b[0mnumericalize\u001b[0m\u001b[0;34m(\u001b[0m\u001b[0mpadded\u001b[0m\u001b[0;34m,\u001b[0m \u001b[0mdevice\u001b[0m\u001b[0;34m=\u001b[0m\u001b[0mdevice\u001b[0m\u001b[0;34m)\u001b[0m\u001b[0;34m\u001b[0m\u001b[0;34m\u001b[0m\u001b[0m\n\u001b[1;32m    202\u001b[0m         \u001b[0;32mreturn\u001b[0m \u001b[0mtensor\u001b[0m\u001b[0;34m\u001b[0m\u001b[0;34m\u001b[0m\u001b[0m\n",
            "\u001b[0;32m/usr/local/lib/python3.6/dist-packages/torchtext/data/field.py\u001b[0m in \u001b[0;36mpad\u001b[0;34m(self, minibatch)\u001b[0m\n\u001b[1;32m    233\u001b[0m                     \u001b[0mlist\u001b[0m\u001b[0;34m(\u001b[0m\u001b[0mx\u001b[0m\u001b[0;34m[\u001b[0m\u001b[0;34m-\u001b[0m\u001b[0mmax_len\u001b[0m\u001b[0;34m:\u001b[0m\u001b[0;34m]\u001b[0m \u001b[0;32mif\u001b[0m \u001b[0mself\u001b[0m\u001b[0;34m.\u001b[0m\u001b[0mtruncate_first\u001b[0m \u001b[0;32melse\u001b[0m \u001b[0mx\u001b[0m\u001b[0;34m[\u001b[0m\u001b[0;34m:\u001b[0m\u001b[0mmax_len\u001b[0m\u001b[0;34m]\u001b[0m\u001b[0;34m)\u001b[0m \u001b[0;34m+\u001b[0m\u001b[0;34m\u001b[0m\u001b[0;34m\u001b[0m\u001b[0m\n\u001b[1;32m    234\u001b[0m                     \u001b[0;34m(\u001b[0m\u001b[0;34m[\u001b[0m\u001b[0;34m]\u001b[0m \u001b[0;32mif\u001b[0m \u001b[0mself\u001b[0m\u001b[0;34m.\u001b[0m\u001b[0meos_token\u001b[0m \u001b[0;32mis\u001b[0m \u001b[0;32mNone\u001b[0m \u001b[0;32melse\u001b[0m \u001b[0;34m[\u001b[0m\u001b[0mself\u001b[0m\u001b[0;34m.\u001b[0m\u001b[0meos_token\u001b[0m\u001b[0;34m]\u001b[0m\u001b[0;34m)\u001b[0m \u001b[0;34m+\u001b[0m\u001b[0;34m\u001b[0m\u001b[0;34m\u001b[0m\u001b[0m\n\u001b[0;32m--> 235\u001b[0;31m                     [self.pad_token] * max(0, max_len - len(x)))\n\u001b[0m\u001b[1;32m    236\u001b[0m             \u001b[0mlengths\u001b[0m\u001b[0;34m.\u001b[0m\u001b[0mappend\u001b[0m\u001b[0;34m(\u001b[0m\u001b[0mlen\u001b[0m\u001b[0;34m(\u001b[0m\u001b[0mpadded\u001b[0m\u001b[0;34m[\u001b[0m\u001b[0;34m-\u001b[0m\u001b[0;36m1\u001b[0m\u001b[0;34m]\u001b[0m\u001b[0;34m)\u001b[0m \u001b[0;34m-\u001b[0m \u001b[0mmax\u001b[0m\u001b[0;34m(\u001b[0m\u001b[0;36m0\u001b[0m\u001b[0;34m,\u001b[0m \u001b[0mmax_len\u001b[0m \u001b[0;34m-\u001b[0m \u001b[0mlen\u001b[0m\u001b[0;34m(\u001b[0m\u001b[0mx\u001b[0m\u001b[0;34m)\u001b[0m\u001b[0;34m)\u001b[0m\u001b[0;34m)\u001b[0m\u001b[0;34m\u001b[0m\u001b[0;34m\u001b[0m\u001b[0m\n\u001b[1;32m    237\u001b[0m         \u001b[0;32mif\u001b[0m \u001b[0mself\u001b[0m\u001b[0;34m.\u001b[0m\u001b[0minclude_lengths\u001b[0m\u001b[0;34m:\u001b[0m\u001b[0;34m\u001b[0m\u001b[0;34m\u001b[0m\u001b[0m\n",
            "\u001b[0;31mKeyboardInterrupt\u001b[0m: "
          ]
        }
      ]
    },
    {
      "cell_type": "code",
      "metadata": {
        "id": "C6_ifbunF7OE"
      },
      "source": [
        "#The following code block has been changed for PyTorch model, originally taken from https://github.com/ipavlopoulos/toxic_spans/blob/master/baselines/models.py\n",
        "\n",
        "class InputErasure:\n",
        "    def __init__(self,\n",
        "                 classifier,\n",
        "                 text,\n",
        "                 one_by_one=False,\n",
        "                 tokenise=lambda txt: txt.split(),\n",
        "                 class_names=[0, 1],\n",
        "                 mask=u\"[mask]\",\n",
        "                 threshold=0.2,\n",
        "                 reshape_predictions=True):\n",
        "        \"\"\"\n",
        "        Given a classifier and a tokenisation method InputErasure returns the toxic words and respective offsets.\n",
        "        This implementation is based on the paper \"Understanding Neural Networks through Representation Erasure\" by\n",
        "        Li et al.\n",
        "        :param classifier: any toxicity classifier that predicts a text as toxic or not\n",
        "        :param text: the textual input (sentence or document) as a string\n",
        "        :param one_by_one: some classifiers may require one by one classification when scoring the \"ablated\" texts.\n",
        "        :param tokenise: by default splits the words on empty space\n",
        "        :param class_names: by default \"toxic\" is represented by 1 and \"civil\" by 0\n",
        "        :param mask: the pseudo token to mask the toxic word (for visualisation purposes)\n",
        "        :param threshold: above this value the text is predicted toxic (default 0.2)\n",
        "        :param reshape_predictions: flattens the output, some classifiers may required this to be set to False\n",
        "        \"\"\"\n",
        "        self.class_names = class_names\n",
        "        self.classifier = classifier\n",
        "        self.mask = mask\n",
        "        self.one_by_one = one_by_one\n",
        "        self.reshape_predictions = reshape_predictions\n",
        "        # self.tokenise = tokenise\n",
        "        self.texts = text\n",
        "        self.words = text\n",
        "        self.initial_score = self.clf_predict(self.texts, False).item()\n",
        "        self.ablations, self.indices = self.create_ablations()\n",
        "        self.scores = self.clf_predict(self.ablations)\n",
        "        self.e = 10e-05\n",
        "        self.scores_decrease = [(self.initial_score - s) / (self.initial_score+self.e) for s in self.scores]\n",
        "        self.threshold = threshold\n",
        "        self.black_list = self.get_black_list()\n",
        "\n",
        "    def clf_predict(self, texts, batch=True):\n",
        "        self.classifier.eval()\n",
        "        if(batch):\n",
        "          text_lengths = [len(x) for x in texts]\n",
        "          predictions = self.classifier(torch.tensor(texts, dtype=torch.int64, device='cuda').view((-1, len(text_lengths))), torch.tensor(text_lengths, device='cuda', dtype=torch.int64))\n",
        "        else:\n",
        "          predictions = self.classifier(torch.tensor(texts, dtype=torch.int64, device='cuda').unsqueeze(1), torch.tensor([len(texts)], device='cuda', dtype=torch.int64))\n",
        "\n",
        "        return predictions\n",
        "\n",
        "    def create_ablations(self):\n",
        "        ablations, indices = [], []\n",
        "        for i, w in enumerate(self.words):\n",
        "            words_copy = [w for w in self.words]\n",
        "            words_copy[i] = self.mask\n",
        "            ablations.append(list(words_copy))\n",
        "            indices.append(i)\n",
        "        return ablations, indices\n",
        "\n",
        "    def get_black_list(self):\n",
        "        return [self.indices[i] for i, s in enumerate(self.scores_decrease) if s > self.threshold]\n",
        "\n",
        "    def get_toxic_offsets(self):\n",
        "        current_offset = 0\n",
        "        toxic_offsets = []\n",
        "        for i, word in enumerate(self.words):\n",
        "            if i in set(self.black_list):\n",
        "                toxic_offsets.append(1)\n",
        "            else:\n",
        "              toxic_offsets.append(0)\n",
        "        return toxic_offsets\n",
        "\n",
        "    def get_mitigated_text(self):\n",
        "        return \" \".join([w if i not in set(self.black_list) else self.mask for i, w in enumerate(self.words)])\n",
        "\n",
        "    def get_as_pandas(self):\n",
        "        scores_pd = pd.DataFrame({\"word\": self.words, \"indices\": self.indices, \"score_dec\": self.scores_decrease})\n",
        "        scores_pd = scores_pd.sort_values(by=[\"score_dec\"])\n",
        "        return scores_pd\n",
        "\n",
        "\n",
        "class LimeUsd(InputErasure):\n",
        "\n",
        "    def __init__(self,\n",
        "                 classifier,\n",
        "                 text,\n",
        "                 one_by_one=False,\n",
        "                 tokenise=lambda txt: txt.split(' '),\n",
        "                 class_names=[0, 1],\n",
        "                 mask=u\"[mask]\",\n",
        "                 threshold=0.2,\n",
        "                 reshape_predictions=True):\n",
        "        \"\"\"\n",
        "        Given a classifier and a tokenisation method LimeUsd returns the toxic words and the respective offsets.\n",
        "        This implementation is based on LIME.\n",
        "        :param classifier: any toxicity classifier that predicts a text as toxic or not\n",
        "        :param text: the textual input (sentence or document) as a string\n",
        "        :param one_by_one: some classifiers may require one by one classification when scoring the \"ablated\" texts.\n",
        "        :param tokenise: by default splits the words on empty space -- same as LIME\n",
        "        :param class_names: by default \"toxic\" is represented by 1 and \"civil\" by 0\n",
        "        :param mask: the pseudo token to mask the toxic word (for visualisation purposes)\n",
        "        :param threshold: above this value the text is predicted toxic (default 0.2)\n",
        "        :param reshape_predictions: flattens the output, some classifiers may required this to be set to False\n",
        "        \"\"\"\n",
        "        self.class_names = class_names\n",
        "        self.classifier = classifier\n",
        "        self.mask = mask\n",
        "        self.one_by_one = one_by_one\n",
        "        self.reshape_predictions = reshape_predictions\n",
        "        # self.tokenise = tokenise\n",
        "        self.texts = text\n",
        "        self.words = text\n",
        "        self.initial_score = self.clf_predict(self.texts, False)\n",
        "        self.ablations, self.indices = self.create_ablations()\n",
        "        self.scores = self.clf_predict(self.ablations)\n",
        "        self.explainer = LimeTextExplainer(class_names=self.class_names, split_expression=tokenise)\n",
        "        self.scores_decrease = self.lime_explain(self.words)\n",
        "        self.threshold = threshold\n",
        "        self.black_list = self.get_black_list()\n",
        "\n",
        "    def predictor_func(self, text):\n",
        "      mx = 0\n",
        "      for i in range(len(text)):\n",
        "        text[i] = text[i].split(' ')\n",
        "        for j in range(len(text[i])):\n",
        "          if(text[i][j]==''):\n",
        "            text[i][j] = '0'\n",
        "        mx = max(mx, len(text[i]))\n",
        "\n",
        "      for i in range(len(text)):\n",
        "        while(len(text[i]) != mx):\n",
        "          text[i].append('0')\n",
        "        text[i] = list(map(int, text[i]))\n",
        "        \n",
        "      text_lengths = [len(x) for x in text]\n",
        "      predictions = self.classifier(torch.tensor(text, dtype=torch.int64, device='cuda').view((-1, len(text_lengths))), torch.tensor(text_lengths, device='cuda', dtype=torch.int64))\n",
        "      return(predictions)\n",
        "\n",
        "    def lime_explain(self, words):\n",
        "        num_of_feats = len(words)\n",
        "        string = \"\"\n",
        "        for x in words:\n",
        "          string += str(x)+' '\n",
        "        string = string.rstrip(' ')\n",
        "        predictor = lambda texts: np.array([[0, p] for p in self.predictor_func(texts)])\n",
        "        explain = self.explainer.explain_instance(string, predictor, num_features=num_of_feats)\n",
        "        word2score = dict(explain.as_list())\n",
        "        return [word2score[str(w)] for w in self.words]\n"
      ],
      "execution_count": null,
      "outputs": []
    },
    {
      "cell_type": "code",
      "metadata": {
        "id": "nWPZ2LB4Juwh",
        "outputId": "4959fb02-b380-4cce-efbe-640d588376ab",
        "colab": {
          "base_uri": "https://localhost:8080/",
          "height": 119
        }
      },
      "source": [
        "# model_load = RNN_model(INPUT_DIM, EMBEDDING_DIM, DROPOUT_RATE, HIDDEN_DIM, LSTM_LAYERS, BIDIRECTIONAL, PAD_IDX, OUTPUT_DIM)\n",
        "model_load = torch.load(('/content/drive/My Drive/model9.pt'))\n",
        "model_load.eval()"
      ],
      "execution_count": null,
      "outputs": [
        {
          "output_type": "execute_result",
          "data": {
            "text/plain": [
              "RNN_model(\n",
              "  (embeddings): Embedding(50002, 100, padding_idx=1)\n",
              "  (dropout): Dropout(p=0.5, inplace=False)\n",
              "  (bilstm): LSTM(100, 256, num_layers=2, dropout=0.5, bidirectional=True)\n",
              "  (linear): Linear(in_features=512, out_features=1, bias=True)\n",
              ")"
            ]
          },
          "metadata": {
            "tags": []
          },
          "execution_count": 60
        }
      ]
    },
    {
      "cell_type": "code",
      "metadata": {
        "id": "tGFIpcDu_at_"
      },
      "source": [
        "stoi = TEXT.vocab.stoi"
      ],
      "execution_count": null,
      "outputs": []
    },
    {
      "cell_type": "code",
      "metadata": {
        "id": "pTjOZMC_LLco"
      },
      "source": [
        "def tokenize_num(stoi, text):\n",
        "  t = list(text)\n",
        "  for i in range(len(text)):\n",
        "    if(t[i] in stoi.keys()):\n",
        "      t[i] = stoi[t[i]]\n",
        "    else:\n",
        "      t[i] = stoi[TEXT.unk_token]\n",
        "  return(t)"
      ],
      "execution_count": null,
      "outputs": []
    },
    {
      "cell_type": "code",
      "metadata": {
        "id": "E0mTmvrK8VsU"
      },
      "source": [
        "filepath = '/content/drive/My Drive/ToxicSpan_CS669V/processed/finaldev.pkl'\n",
        "f = open(filepath, 'rb')\n",
        "data_df = pickle.load(f)\n",
        "f.close()"
      ],
      "execution_count": null,
      "outputs": []
    },
    {
      "cell_type": "code",
      "metadata": {
        "id": "-dZScZzSEJHE"
      },
      "source": [
        "X = data_df['token_final']\n",
        "spans_list = data_df['span_final']\n",
        "spans = data_df['spans']\n",
        "\n",
        "targets = []\n",
        "for x in data_df['target_final']:\n",
        "  targets.extend(x)"
      ],
      "execution_count": null,
      "outputs": []
    },
    {
      "cell_type": "code",
      "metadata": {
        "id": "KesgTAbPG1WF"
      },
      "source": [
        "predictions = []\n",
        "\n",
        "for text in X:\n",
        "  t = tokenize_num(stoi, text)\n",
        "  erasure = InputErasure(model_load, t, mask=stoi[TEXT.unk_token])\n",
        "  x = erasure.get_toxic_offsets()\n",
        "  predictions.extend(x)"
      ],
      "execution_count": null,
      "outputs": []
    },
    {
      "cell_type": "code",
      "metadata": {
        "id": "MhwX15pVl32z"
      },
      "source": [
        "predictions = []\n",
        "\n",
        "for text in X:\n",
        "  # print(text)\n",
        "  t = tokenize_num(stoi, text)\n",
        "  erasure = LimeUsd(model_load, t, mask=stoi[TEXT.unk_token])\n",
        "  x = erasure.get_toxic_offsets()\n",
        "  predictions.extend(x)"
      ],
      "execution_count": null,
      "outputs": []
    },
    {
      "cell_type": "code",
      "metadata": {
        "id": "iJmG0GgjMdDf",
        "outputId": "f5dead4c-ef60-4ee5-a078-d53f7acd5e3d",
        "colab": {
          "base_uri": "https://localhost:8080/",
          "height": 34
        }
      },
      "source": [
        "F1score = f1_score(predictions, targets)\n",
        "F1score"
      ],
      "execution_count": null,
      "outputs": [
        {
          "output_type": "execute_result",
          "data": {
            "text/plain": [
              "0.09212103599840168"
            ]
          },
          "metadata": {
            "tags": []
          },
          "execution_count": 67
        }
      ]
    }
  ]
}