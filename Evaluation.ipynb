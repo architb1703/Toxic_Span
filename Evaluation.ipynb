{
  "nbformat": 4,
  "nbformat_minor": 0,
  "metadata": {
    "colab": {
      "name": "Evaluation.ipynb",
      "provenance": [],
      "mount_file_id": "1XQ3jC6LqASONst5TRme8aLYo--O2yxOn",
      "authorship_tag": "ABX9TyMTaDmmAuCXzAnnqLkkPBQ/",
      "include_colab_link": true
    },
    "kernelspec": {
      "name": "python3",
      "display_name": "Python 3"
    }
  },
  "cells": [
    {
      "cell_type": "markdown",
      "metadata": {
        "id": "view-in-github",
        "colab_type": "text"
      },
      "source": [
        "<a href=\"https://colab.research.google.com/github/architb1703/Toxic_Span/blob/Abhay/Evaluation.ipynb\" target=\"_parent\"><img src=\"https://colab.research.google.com/assets/colab-badge.svg\" alt=\"Open In Colab\"/></a>"
      ]
    },
    {
      "cell_type": "code",
      "metadata": {
        "id": "r0acXEA7zadc",
        "colab": {
          "base_uri": "https://localhost:8080/"
        },
        "outputId": "2b346d93-1ffa-4740-ad5e-05e254f99b54"
      },
      "source": [
        "from google.colab import drive\n",
        "drive.mount('/content/drive')"
      ],
      "execution_count": null,
      "outputs": [
        {
          "output_type": "stream",
          "text": [
            "Mounted at /content/drive\n"
          ],
          "name": "stdout"
        }
      ]
    },
    {
      "cell_type": "code",
      "metadata": {
        "id": "TGgzdrg-55m6"
      },
      "source": [
        "test_path = 'drive/MyDrive/Toxic span/devfinal.csv' # enter the path to csv where the test spans are available \n",
        "pred_path='drive/MyDrive/Toxic span/valpredicted3.csv'  # enter the path where is predicted.csv"
      ],
      "execution_count": null,
      "outputs": []
    },
    {
      "cell_type": "code",
      "metadata": {
        "id": "jtmn72VIrQZk",
        "colab": {
          "base_uri": "https://localhost:8080/"
        },
        "outputId": "a9f1cf65-0340-4908-fa17-d81dc7684faf"
      },
      "source": [
        "import pandas as pd\n",
        "import pickle\n",
        "\n",
        "from ast import literal_eval\n",
        "\n",
        "test = pd.read_csv(test_path)\n",
        "test.spans = test.spans.apply(literal_eval)\n",
        "\n",
        "prediction = pd.read_csv(pred_path)\n",
        "prediction.spans = prediction.spans.apply(literal_eval)\n",
        "\n",
        "\n",
        "spans = test.spans.tolist() #list of lists\n",
        "predicted = prediction.spans.tolist() #list of lists \n",
        "\n",
        "\n",
        "#set1: predicted, set2: ground\n",
        "\n",
        "def precision_(set1, set2):\n",
        "    return len(set1.intersection(set2))/len(set1)\n",
        "\n",
        "def recall_(set1, set2):\n",
        "    return len(set1.intersection(set2))/len(set2)\n",
        "\n",
        "def f1_(set1, set2):\n",
        "    if (len(set1) == 0 and len(set2) == 0):\n",
        "        return 1\n",
        "    elif (len(set1) == 0 or len(set2) == 0):\n",
        "        return 0\n",
        "    else:\n",
        "        p = precision_(set1, set2)\n",
        "        r = recall_(set1, set2)\n",
        "        if (p+r) == 0:\n",
        "            return 0\n",
        "        return  2*p*r/(p+r) \n",
        "\n",
        "f1s = []\n",
        "for i in range(len(spans)):\n",
        "    f1s.append(f1_(set(predicted[i]), set(spans[i])))\n",
        "\n",
        "print(sum(f1s)/len(f1s))"
      ],
      "execution_count": null,
      "outputs": [
        {
          "output_type": "stream",
          "text": [
            "0.6933597933052192\n"
          ],
          "name": "stdout"
        }
      ]
    },
    {
      "cell_type": "code",
      "metadata": {
        "id": "g6ZyfT77wVRW"
      },
      "source": [
        ""
      ],
      "execution_count": null,
      "outputs": []
    }
  ]
}