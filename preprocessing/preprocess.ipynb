{
 "cells": [
  {
   "cell_type": "code",
   "execution_count": 1,
   "metadata": {},
   "outputs": [],
   "source": [
    "import sys\n",
    "import numpy as np\n",
    "import pandas as pd"
   ]
  },
  {
   "cell_type": "code",
   "execution_count": 2,
   "metadata": {},
   "outputs": [],
   "source": [
    "# import data\n",
    "from ast import literal_eval\n",
<<<<<<< HEAD
    "train = pd.read_csv(\"/home/samyakj/Desktop/Toxic_Span/Dataset/tsd_train.csv\")\n",
=======
    "train = pd.read_csv(\"Toxic_Span/Dataset/tsd_train.csv\")\n",
>>>>>>> 98587fd2f9f3f1bca31c92bf193876a88dba7bea
    "train[\"spans\"] = train.spans.apply(literal_eval)    \n"
   ]
  },
  {
   "cell_type": "code",
   "execution_count": 3,
   "metadata": {},
   "outputs": [],
   "source": [
    "# corpus = dup of \"train\"\n",
    "corpus = train.copy()\n",
    "\n",
    "#generate toxic chars\n",
    "toxic = [ '' for i in range(len(corpus))]\n",
    "for i in range(0, len(corpus)):\n",
    "    string = corpus.text[i]\n",
    "    posi = corpus.spans[i]\n",
    "    for j in range(len(posi)):\n",
    "        toxic[i] += string[posi[j]]\n",
    "\n",
    "corpus[\"toxic_chars\"] = toxic\n",
    "del toxic\n",
    "  "
   ]
  },
  {
   "cell_type": "code",
   "execution_count": 4,
   "metadata": {},
   "outputs": [],
   "source": [
    "# finding white spaces which are marked toxic\n",
    "def find_whitespace(string):\n",
    "    count = 0\n",
    "    for i in string:\n",
    "        if(i.isspace()):\n",
    "            count=count+1  \n",
    "    return count\n",
    "corpus[\"toxic_whitespaces\"] = corpus.toxic_chars.apply(lambda x: find_whitespace(x))\n",
    "corpus[\"total_toxic_char\"] = corpus.toxic_chars.apply(lambda x: len(x))\n",
    "corpus[\"white_by_char\"] = 100*corpus['toxic_whitespaces']/(corpus['total_toxic_char']+.00000001)\n",
    "\n"
   ]
  },
  {
   "cell_type": "code",
   "execution_count": 5,
   "metadata": {},
   "outputs": [],
   "source": [
    "# stats of words and chars\n",
    "length_of_words = corpus['text'].apply(lambda x: len(x.split()))\n",
    "length_of_text = corpus['text'].apply(lambda x: len(x))"
   ]
  },
  {
   "cell_type": "code",
   "execution_count": 6,
   "metadata": {},
   "outputs": [],
   "source": [
    "#pd.DataFrame({'word_level':length_of_words.describe(), 'char_level': length_of_text.describe()} )"
   ]
  },
  {
   "cell_type": "code",
   "execution_count": 7,
   "metadata": {},
   "outputs": [],
   "source": [
    "# tokenization and cacheing spans(position of token)\n",
    "from nltk.tokenize import TreebankWordTokenizer as twt\n",
    "\n",
    "def tokens(string):\n",
    "    tokens = twt().tokenize(string)\n",
    "    return tokens \n",
    "\n",
    "def spans_of_tokens(string):\n",
    "    list_of_spans = list(twt().span_tokenize(string))\n",
    "    return list_of_spans\n",
    "\n",
    "corpus[\"tokenize\"] = corpus[\"text\"].apply(lambda x: tokens(x))\n",
    "corpus[\"spans_of_tokens\"] = corpus[\"text\"].apply(lambda x: spans_of_tokens(x))"
   ]
  },
  {
   "cell_type": "code",
   "execution_count": 8,
   "metadata": {},
   "outputs": [],
   "source": [
    "# target 0, 1 notation\n",
    "\n",
    "def target_vector_(span, span_of_token):\n",
    "    target = []\n",
    "    for x,y in span_of_token:\n",
    "            if x in span:\n",
    "                target.append(1)\n",
    "            else:\n",
    "                target.append(0)\n",
    "        \n",
    "    return target\n",
    "\n",
    "temp = []\n",
    "for i in range(len(corpus)):\n",
    "        temp.append(target_vector_(corpus.spans[i], corpus.spans_of_tokens[i]))\n",
    "        \n",
    "corpus[\"target\"] = temp\n"
   ]
  },
  {
   "cell_type": "code",
   "execution_count": 9,
   "metadata": {},
   "outputs": [],
   "source": [
    "# zipped together -> token, their spans, and target\n",
    "temp = []\n",
    "for i in range(len(corpus)):\n",
    "    temp.append(list(zip(corpus.tokenize[i], corpus.spans_of_tokens[i], corpus.target[i])))\n",
    "\n",
    "for i in range(len(temp)):    \n",
    "    temp[i] = [list(ele) for ele in temp[i]]  \n",
    "\n",
    "corpus[\"zipped\"] = temp\n",
    "del temp\n"
   ]
  },
  {
   "cell_type": "code",
   "execution_count": 10,
   "metadata": {},
   "outputs": [],
   "source": [
    "#################### cleaning functions ####################\n",
    "# emoji removing function\n",
    "def deEmojify(text):\n",
    "    regrex_pattern = re.compile(pattern = \"[\"\n",
    "        u\"\\U0001F600-\\U0001F64F\"  # emoticons\n",
    "        u\"\\U0001F300-\\U0001F5FF\"  # symbols & pictographs\n",
    "        u\"\\U0001F680-\\U0001F6FF\"  # transport & map symbols\n",
    "        u\"\\U0001F1E0-\\U0001F1FF\"  # flags (iOS)\n",
    "                           \"]+\", flags = re.UNICODE)\n",
    "    return regrex_pattern.sub(r'',text)\n",
    "\n",
    "#puntuation remover\n",
    "from string import punctuation\n",
    "def strip_punctuation(text):\n",
    "    return ''.join(c for c in text if c not in punctuation)\n",
    "\n",
    "#convert accented text\n",
    "import unicodedata\n",
    "def convert_accented_chars(text):\n",
    "    text = unicodedata.normalize('NFKD', text).encode('ascii', 'ignore').decode('utf-8', 'ignore')\n",
    "    return text\n",
    "\n",
    "#expand contraction\n",
    "from contractions import CONTRACTION_MAP # from contractions.py\n",
    "import re \n",
    "\n",
    "# function to expand contractions\n",
    "def expand_contractions(text, map=CONTRACTION_MAP):\n",
    "    pattern = re.compile('({})'.format('|'.join(map.keys())), flags=re.IGNORECASE|re.DOTALL)\n",
    "    def get_match(contraction):\n",
    "        match = contraction.group(0)\n",
    "        first_char = match[0]\n",
    "        expanded = map.get(match) if map.get(match) else map.get(match.lower())\n",
    "        expanded = first_char+expanded[1:]\n",
    "        return expanded \n",
    "    new_text = pattern.sub(get_match, text)\n",
    "    new_text = re.sub(\"'\", \"\", new_text)\n",
    "    return new_text\n",
    "\n",
    "# function to remove digits\n",
    "def remove_numbers(text):     \n",
    "    return ''.join([i for i in string if not i.isdigit()])\n",
    "#################### cleaning functions ####################    "
   ]
  },
  {
   "cell_type": "code",
   "execution_count": 11,
   "metadata": {},
   "outputs": [],
   "source": [
    "#cleaning tokens (in zipped)\n",
    "def clean_string(string):\n",
    "    \n",
    "    #string = remove_numbers(string)#remove digits #dont use this for now\n",
    "    #numbers into words(could be done if required)\n",
    "    string = convert_accented_chars(string)#convert accented\n",
    "    string = expand_contractions(string) #expand contraction\n",
    "    string = deEmojify(string)#remove emoji\n",
    "    string = strip_punctuation(string)#remove all puntuation\n",
    "    string = string.lower()#lowercasing\n",
    "    return string\n",
    "\n",
    "def cleaning(iterable):\n",
    "    for i in range(len(iterable)):\n",
    "        iterable[i][0] = clean_string(iterable[i][0])    \n",
    "    \n",
    "    return iterable\n"
   ]
  },
  {
   "cell_type": "code",
   "execution_count": 12,
   "metadata": {},
   "outputs": [],
   "source": [
    "#remove empty tokens (in zipped)\n",
    "def remove_empty(iterable):\n",
    "    iterable = list(filter(lambda x: x[0] != '', iterable))\n",
    "    return iterable"
   ]
  },
  {
   "cell_type": "code",
   "execution_count": 13,
   "metadata": {},
   "outputs": [],
   "source": [
    "# clean\n",
    "corpus.zipped = corpus.zipped.apply(lambda x: cleaning(x))\n",
    "# remove nulls\n",
    "corpus.zipped = corpus.zipped.apply(lambda x: remove_empty(x))"
   ]
  },
  {
   "cell_type": "code",
   "execution_count": 14,
   "metadata": {},
   "outputs": [],
   "source": [
    "corpus.to_csv('processed.csv', index = False)"
   ]
  }
 ],
 "metadata": {
  "kernelspec": {
   "display_name": "Python 3",
   "language": "python",
   "name": "python3"
  },
  "language_info": {
   "codemirror_mode": {
    "name": "ipython",
    "version": 3
   },
   "file_extension": ".py",
   "mimetype": "text/x-python",
   "name": "python",
   "nbconvert_exporter": "python",
   "pygments_lexer": "ipython3",
   "version": "3.8.3"
  }
 },
 "nbformat": 4,
 "nbformat_minor": 2
}
